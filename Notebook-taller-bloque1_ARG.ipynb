{
  "cells": [
    {
      "cell_type": "markdown",
      "metadata": {
        "id": "x2NE0T8ZizaF"
      },
      "source": [
        "# Bloque 1: Naturaleza de las series de tiempo\n",
        "\n",
        "Melanie Oyarzún W. (moyarzunw@udd.cl)\n",
        "\n",
        "\n",
        "**Resultado de aprendizaje esperado:**\n",
        "\n",
        "Identificar datos de series temporales, sus particularidades y riesgos, en el contexto de posibles aplicaciones profesionales.\n",
        "\n",
        "**Bibliografía recomendada:**\n",
        "\n",
        "Stock & Watson, C.14 [link](https://www.dropbox.com/s/d09qcat340jy5q2/stock%20y%20watson%20-%20Introduccion%20a%20la%20Econometria.pdf?dl=0) ; Wooldridge, c.12 [link](https://www.dropbox.com/s/wrh0tuna27qp747/Wooldridge__Introductory_Econometrics_2nd_Ed_Solutions.pdf?dl=0), Gujarati, c.12  [link](https://www.dropbox.com/s/rrvth8vsa1c5gts/Gujarati-cap%2012.pdf?dl=0)\n",
        "\n",
        "**Material de apoyo***\n",
        "\n",
        "El taller cuenta con un repositorio  [https://github.com/melanieoyarzun/taller_seriestiempo_IDS](https://github.com/melanieoyarzun/taller_seriestiempo_IDS) en el cual está disponible todo el material.\n",
        "\n",
        "**Slides**\n",
        "\n",
        "Estan disponibles en el repositorio o directamente en el link \n",
        "\n",
        "---"
      ]
    },
    {
      "cell_type": "code",
      "execution_count": 8,
      "metadata": {
        "colab": {
          "base_uri": "https://localhost:8080/",
          "height": 51
        },
        "id": "TO7d1hSRizaJ",
        "outputId": "ba2b5831-430c-4637-e5b7-945a14b76ec3"
      },
      "outputs": [
        {
          "output_type": "execute_result",
          "data": {
            "text/plain": [
              "<Figure size 1000x600 with 0 Axes>"
            ]
          },
          "metadata": {},
          "execution_count": 8
        },
        {
          "output_type": "display_data",
          "data": {
            "text/plain": [
              "<Figure size 1000x600 with 0 Axes>"
            ]
          },
          "metadata": {}
        }
      ],
      "source": [
        "# Paquetes y settings\n",
        "\n",
        "from dateutil.parser import parse \n",
        "import matplotlib as mpl\n",
        "import matplotlib.pyplot as plt\n",
        "import seaborn as sns\n",
        "import numpy as np\n",
        "import pandas as pd\n",
        "#import watermark \n",
        "\n",
        "\n",
        "%matplotlib inline\n",
        "#%load_ext watermark\n",
        "\n",
        "# setting de graficos\n",
        "\n",
        "plt.figure(figsize=(5,3), dpi= 200, facecolor='w', edgecolor='k')\n"
      ]
    },
    {
      "cell_type": "code",
      "execution_count": null,
      "metadata": {
        "id": "hhX5vDiMizaK",
        "outputId": "2e5817b4-65f2-4bd8-e817-6e98de35aa7d"
      },
      "outputs": [
        {
          "name": "stdout",
          "output_type": "stream",
          "text": [
            "Python implementation: CPython\n",
            "Python version       : 3.9.7\n",
            "IPython version      : 7.29.0\n",
            "\n",
            "Compiler    : Clang 10.0.0 \n",
            "OS          : Darwin\n",
            "Release     : 20.6.0\n",
            "Machine     : x86_64\n",
            "Processor   : i386\n",
            "CPU cores   : 4\n",
            "Architecture: 64bit\n",
            "\n",
            "Git hash: 9e6102a10f1414b74695f50b9ff846c6f02b146c\n",
            "\n",
            "sys       : 3.9.7 (default, Sep 16 2021, 08:50:36) \n",
            "[Clang 10.0.0 ]\n",
            "numpy     : 1.20.3\n",
            "pandas    : 1.3.4\n",
            "matplotlib: 3.4.3\n",
            "seaborn   : 0.11.2\n",
            "watermark : 2.2.0\n",
            "\n"
          ]
        }
      ],
      "source": [
        "#no correr, es para que vean que paquetes usé yo y poder compara si tienes problemas.\n",
        "\n",
        "%watermark -n -v -m -g -iv "
      ]
    },
    {
      "cell_type": "markdown",
      "metadata": {
        "id": "sRpdsNkzizaL"
      },
      "source": [
        "# Tipos de datos\n",
        "\n",
        "Los datos que analizamos con modelos se pueden categorizar en tres grandes tipos: \n",
        "\n",
        "- corte transversal \n",
        "- series de tiempo (o longitudinal)\n",
        "- panel\n",
        "\n",
        "## Corte transversal\n",
        "Cuando se empieza a estudiar modelamiento de datos, la aplicación natural de estos es en lo que llamamos datos de corte transversal. En estos, la **unidad de observación** son individuos separados unos de otros. \n",
        "\n",
        "Usualmente, cada fila reprsenta un individuo (personas, familias, empresas) en un momento del tiempo específico (mismo año, mismo mes, etc). Es análogo a una *fotografía* de do grupo.\n"
      ]
    },
    {
      "cell_type": "markdown",
      "metadata": {
        "id": "B_68aL6xizaL"
      },
      "source": [
        "Un ejemplo de esto es la encuesta Casen [(http://observatorio.ministeriodesarrollosocial.gob.cl/encuesta-casen)](http://observatorio.ministeriodesarrollosocial.gob.cl/encuesta-casen) o Encuesta de Caracterización Socioeconómica Nacional.\n",
        "\n",
        "Esta es una encuesta de caracter nacional realizada a hogares, en la cual se busca levantar información para conocer la situación de los hogares y de la población, especialmente de aquella en situación de pobreza y de aquellos grupos definidos como prioritarios y permite evaluar impacto de política social. Es representativa a nivel regional.\n",
        "\n",
        "Es realizada por el Ministerio de Desarrollo Social desde el año 1990 con una periodicidad; bianual o trianual. Hasta ahora, las encuestas aplicadas corresponden a los años 1990, 1992, 1994, 1996, 1998, 2000, 2003, 2006, 2009, 2011, 2013, 2105 y 2017."
      ]
    },
    {
      "cell_type": "code",
      "execution_count": 10,
      "metadata": {
        "colab": {
          "base_uri": "https://localhost:8080/",
          "height": 529
        },
        "id": "vGhXgHRoizaL",
        "outputId": "f3615274-1af4-4cab-b29d-a059cadec260"
      },
      "outputs": [
        {
          "output_type": "execute_result",
          "data": {
            "text/html": [
              "<div>\n",
              "<style scoped>\n",
              "    .dataframe tbody tr th:only-of-type {\n",
              "        vertical-align: middle;\n",
              "    }\n",
              "\n",
              "    .dataframe tbody tr th {\n",
              "        vertical-align: top;\n",
              "    }\n",
              "\n",
              "    .dataframe thead th {\n",
              "        text-align: right;\n",
              "    }\n",
              "</style>\n",
              "<table border=\"1\" class=\"dataframe\">\n",
              "  <thead>\n",
              "    <tr style=\"text-align: right;\">\n",
              "      <th></th>\n",
              "      <th>folio</th>\n",
              "      <th>o</th>\n",
              "      <th>id_persona</th>\n",
              "      <th>region</th>\n",
              "      <th>comuna</th>\n",
              "      <th>zona</th>\n",
              "      <th>expr</th>\n",
              "      <th>edad</th>\n",
              "      <th>sexo</th>\n",
              "      <th>tot_per</th>\n",
              "      <th>ecivil</th>\n",
              "      <th>esc</th>\n",
              "      <th>esc2</th>\n",
              "      <th>educ</th>\n",
              "      <th>o1</th>\n",
              "      <th>yaut</th>\n",
              "      <th>yauth</th>\n",
              "      <th>yautcor</th>\n",
              "      <th>yautcorh</th>\n",
              "      <th>ytrabajocor</th>\n",
              "      <th>ytrabajocorh</th>\n",
              "      <th>yae</th>\n",
              "    </tr>\n",
              "  </thead>\n",
              "  <tbody>\n",
              "    <tr>\n",
              "      <th>0</th>\n",
              "      <td>1.101100e+11</td>\n",
              "      <td>1</td>\n",
              "      <td>5</td>\n",
              "      <td>Región de Tarapacá</td>\n",
              "      <td>Iquique</td>\n",
              "      <td>Urbano</td>\n",
              "      <td>67</td>\n",
              "      <td>34</td>\n",
              "      <td>Mujer</td>\n",
              "      <td>2</td>\n",
              "      <td>Soltero(a)</td>\n",
              "      <td>12.0</td>\n",
              "      <td>12.0</td>\n",
              "      <td>Media humanista completa</td>\n",
              "      <td>No</td>\n",
              "      <td>220000.0</td>\n",
              "      <td>300000</td>\n",
              "      <td>220000.0</td>\n",
              "      <td>300000</td>\n",
              "      <td>150000.0</td>\n",
              "      <td>150000.0</td>\n",
              "      <td>240586.0</td>\n",
              "    </tr>\n",
              "    <tr>\n",
              "      <th>1</th>\n",
              "      <td>1.101100e+11</td>\n",
              "      <td>2</td>\n",
              "      <td>6</td>\n",
              "      <td>Región de Tarapacá</td>\n",
              "      <td>Iquique</td>\n",
              "      <td>Urbano</td>\n",
              "      <td>67</td>\n",
              "      <td>4</td>\n",
              "      <td>Mujer</td>\n",
              "      <td>2</td>\n",
              "      <td>NaN</td>\n",
              "      <td>NaN</td>\n",
              "      <td>NaN</td>\n",
              "      <td>Sin educación formal</td>\n",
              "      <td>NaN</td>\n",
              "      <td>80000.0</td>\n",
              "      <td>300000</td>\n",
              "      <td>80000.0</td>\n",
              "      <td>300000</td>\n",
              "      <td>NaN</td>\n",
              "      <td>150000.0</td>\n",
              "      <td>240586.0</td>\n",
              "    </tr>\n",
              "    <tr>\n",
              "      <th>2</th>\n",
              "      <td>1.101100e+11</td>\n",
              "      <td>2</td>\n",
              "      <td>31</td>\n",
              "      <td>Región de Tarapacá</td>\n",
              "      <td>Iquique</td>\n",
              "      <td>Urbano</td>\n",
              "      <td>67</td>\n",
              "      <td>5</td>\n",
              "      <td>Mujer</td>\n",
              "      <td>3</td>\n",
              "      <td>NaN</td>\n",
              "      <td>NaN</td>\n",
              "      <td>NaN</td>\n",
              "      <td>Básica incompleta</td>\n",
              "      <td>NaN</td>\n",
              "      <td>25000.0</td>\n",
              "      <td>941583</td>\n",
              "      <td>25000.0</td>\n",
              "      <td>941583</td>\n",
              "      <td>NaN</td>\n",
              "      <td>891583.0</td>\n",
              "      <td>439170.0</td>\n",
              "    </tr>\n",
              "    <tr>\n",
              "      <th>3</th>\n",
              "      <td>1.101100e+11</td>\n",
              "      <td>1</td>\n",
              "      <td>32</td>\n",
              "      <td>Región de Tarapacá</td>\n",
              "      <td>Iquique</td>\n",
              "      <td>Urbano</td>\n",
              "      <td>67</td>\n",
              "      <td>45</td>\n",
              "      <td>Hombre</td>\n",
              "      <td>3</td>\n",
              "      <td>Soltero(a)</td>\n",
              "      <td>15.0</td>\n",
              "      <td>15.0</td>\n",
              "      <td>Técnico nivel superior incompleta</td>\n",
              "      <td>Sí</td>\n",
              "      <td>889500.0</td>\n",
              "      <td>941583</td>\n",
              "      <td>889500.0</td>\n",
              "      <td>941583</td>\n",
              "      <td>889500.0</td>\n",
              "      <td>891583.0</td>\n",
              "      <td>439170.0</td>\n",
              "    </tr>\n",
              "    <tr>\n",
              "      <th>4</th>\n",
              "      <td>1.101100e+11</td>\n",
              "      <td>3</td>\n",
              "      <td>30</td>\n",
              "      <td>Región de Tarapacá</td>\n",
              "      <td>Iquique</td>\n",
              "      <td>Urbano</td>\n",
              "      <td>67</td>\n",
              "      <td>19</td>\n",
              "      <td>Mujer</td>\n",
              "      <td>3</td>\n",
              "      <td>Soltero(a)</td>\n",
              "      <td>NaN</td>\n",
              "      <td>NaN</td>\n",
              "      <td>No sabe</td>\n",
              "      <td>No</td>\n",
              "      <td>27083.0</td>\n",
              "      <td>941583</td>\n",
              "      <td>27083.0</td>\n",
              "      <td>941583</td>\n",
              "      <td>2083.0</td>\n",
              "      <td>891583.0</td>\n",
              "      <td>439170.0</td>\n",
              "    </tr>\n",
              "    <tr>\n",
              "      <th>5</th>\n",
              "      <td>1.101100e+11</td>\n",
              "      <td>2</td>\n",
              "      <td>117</td>\n",
              "      <td>Región de Tarapacá</td>\n",
              "      <td>Iquique</td>\n",
              "      <td>Urbano</td>\n",
              "      <td>67</td>\n",
              "      <td>57</td>\n",
              "      <td>Hombre</td>\n",
              "      <td>3</td>\n",
              "      <td>Casado(a)</td>\n",
              "      <td>16.0</td>\n",
              "      <td>16.0</td>\n",
              "      <td>Técnico nivel superior completo</td>\n",
              "      <td>Sí</td>\n",
              "      <td>3000000.0</td>\n",
              "      <td>3004167</td>\n",
              "      <td>3000000.0</td>\n",
              "      <td>3004167</td>\n",
              "      <td>3000000.0</td>\n",
              "      <td>3004167.0</td>\n",
              "      <td>1522295.0</td>\n",
              "    </tr>\n",
              "    <tr>\n",
              "      <th>6</th>\n",
              "      <td>1.101100e+11</td>\n",
              "      <td>3</td>\n",
              "      <td>118</td>\n",
              "      <td>Región de Tarapacá</td>\n",
              "      <td>Iquique</td>\n",
              "      <td>Urbano</td>\n",
              "      <td>67</td>\n",
              "      <td>20</td>\n",
              "      <td>Hombre</td>\n",
              "      <td>3</td>\n",
              "      <td>Soltero(a)</td>\n",
              "      <td>14.0</td>\n",
              "      <td>14.0</td>\n",
              "      <td>Técnico nivel superior incompleta</td>\n",
              "      <td>No</td>\n",
              "      <td>NaN</td>\n",
              "      <td>3004167</td>\n",
              "      <td>NaN</td>\n",
              "      <td>3004167</td>\n",
              "      <td>NaN</td>\n",
              "      <td>3004167.0</td>\n",
              "      <td>1522295.0</td>\n",
              "    </tr>\n",
              "    <tr>\n",
              "      <th>7</th>\n",
              "      <td>1.101100e+11</td>\n",
              "      <td>1</td>\n",
              "      <td>116</td>\n",
              "      <td>Región de Tarapacá</td>\n",
              "      <td>Iquique</td>\n",
              "      <td>Urbano</td>\n",
              "      <td>67</td>\n",
              "      <td>56</td>\n",
              "      <td>Mujer</td>\n",
              "      <td>3</td>\n",
              "      <td>Casado(a)</td>\n",
              "      <td>15.0</td>\n",
              "      <td>15.0</td>\n",
              "      <td>Técnico nivel superior completo</td>\n",
              "      <td>No</td>\n",
              "      <td>4167.0</td>\n",
              "      <td>3004167</td>\n",
              "      <td>4167.0</td>\n",
              "      <td>3004167</td>\n",
              "      <td>4167.0</td>\n",
              "      <td>3004167.0</td>\n",
              "      <td>1522295.0</td>\n",
              "    </tr>\n",
              "    <tr>\n",
              "      <th>8</th>\n",
              "      <td>1.101100e+11</td>\n",
              "      <td>1</td>\n",
              "      <td>2209</td>\n",
              "      <td>Región de Tarapacá</td>\n",
              "      <td>Iquique</td>\n",
              "      <td>Urbano</td>\n",
              "      <td>67</td>\n",
              "      <td>77</td>\n",
              "      <td>Hombre</td>\n",
              "      <td>2</td>\n",
              "      <td>Conviviente o pareja sin acuerdo de unión civil</td>\n",
              "      <td>10.0</td>\n",
              "      <td>10.0</td>\n",
              "      <td>Media técnica profesional incompleta</td>\n",
              "      <td>No</td>\n",
              "      <td>1250.0</td>\n",
              "      <td>128250</td>\n",
              "      <td>1250.0</td>\n",
              "      <td>128250</td>\n",
              "      <td>NaN</td>\n",
              "      <td>0.0</td>\n",
              "      <td>375653.0</td>\n",
              "    </tr>\n",
              "    <tr>\n",
              "      <th>9</th>\n",
              "      <td>1.101100e+11</td>\n",
              "      <td>2</td>\n",
              "      <td>2210</td>\n",
              "      <td>Región de Tarapacá</td>\n",
              "      <td>Iquique</td>\n",
              "      <td>Urbano</td>\n",
              "      <td>67</td>\n",
              "      <td>60</td>\n",
              "      <td>Mujer</td>\n",
              "      <td>2</td>\n",
              "      <td>Conviviente o pareja sin acuerdo de unión civil</td>\n",
              "      <td>12.0</td>\n",
              "      <td>12.0</td>\n",
              "      <td>Media humanista completa</td>\n",
              "      <td>No</td>\n",
              "      <td>127000.0</td>\n",
              "      <td>128250</td>\n",
              "      <td>127000.0</td>\n",
              "      <td>128250</td>\n",
              "      <td>NaN</td>\n",
              "      <td>0.0</td>\n",
              "      <td>375653.0</td>\n",
              "    </tr>\n",
              "  </tbody>\n",
              "</table>\n",
              "</div>"
            ],
            "text/plain": [
              "          folio  o  id_persona  ... ytrabajocor ytrabajocorh        yae\n",
              "0  1.101100e+11  1           5  ...    150000.0     150000.0   240586.0\n",
              "1  1.101100e+11  2           6  ...         NaN     150000.0   240586.0\n",
              "2  1.101100e+11  2          31  ...         NaN     891583.0   439170.0\n",
              "3  1.101100e+11  1          32  ...    889500.0     891583.0   439170.0\n",
              "4  1.101100e+11  3          30  ...      2083.0     891583.0   439170.0\n",
              "5  1.101100e+11  2         117  ...   3000000.0    3004167.0  1522295.0\n",
              "6  1.101100e+11  3         118  ...         NaN    3004167.0  1522295.0\n",
              "7  1.101100e+11  1         116  ...      4167.0    3004167.0  1522295.0\n",
              "8  1.101100e+11  1        2209  ...         NaN          0.0   375653.0\n",
              "9  1.101100e+11  2        2210  ...         NaN          0.0   375653.0\n",
              "\n",
              "[10 rows x 22 columns]"
            ]
          },
          "metadata": {},
          "execution_count": 10
        }
      ],
      "source": [
        "#df_casen2020= pd.read_stata(\"Data/casen_2020_ingresos.dta\") \n",
        "\n",
        "# Nota: si no les reconoce bien la dependencia de la carpeta, pueden usar también\n",
        "df_casen2020= pd.read_stata(\"https://github.com/melanieoyarzun/taller_seriestiempo_IDS/blob/b0be4e78a8c7a738e41b284a65d350179abbda96/Data/casen_2020_ingresos.dta?raw=true\")\n",
        "\n",
        "df_casen2020.head(10)"
      ]
    },
    {
      "cell_type": "code",
      "execution_count": 11,
      "metadata": {
        "colab": {
          "base_uri": "https://localhost:8080/"
        },
        "id": "zAXJVCG0izaM",
        "outputId": "7c062946-30fb-4a1e-8c56-8025a4c50021"
      },
      "outputs": [
        {
          "output_type": "stream",
          "name": "stdout",
          "text": [
            "<class 'pandas.core.frame.DataFrame'>\n",
            "Int64Index: 185437 entries, 0 to 185436\n",
            "Data columns (total 22 columns):\n",
            " #   Column        Non-Null Count   Dtype   \n",
            "---  ------        --------------   -----   \n",
            " 0   folio         185437 non-null  float64 \n",
            " 1   o             185437 non-null  int8    \n",
            " 2   id_persona    185437 non-null  int16   \n",
            " 3   region        185437 non-null  category\n",
            " 4   comuna        185437 non-null  category\n",
            " 5   zona          185437 non-null  category\n",
            " 6   expr          185437 non-null  int16   \n",
            " 7   edad          185437 non-null  int16   \n",
            " 8   sexo          185437 non-null  category\n",
            " 9   tot_per       185437 non-null  int8    \n",
            " 10  ecivil        153892 non-null  category\n",
            " 11  esc           148886 non-null  float64 \n",
            " 12  esc2          148886 non-null  float64 \n",
            " 13  educ          185437 non-null  category\n",
            " 14  o1            151315 non-null  category\n",
            " 15  yaut          95399 non-null   float64 \n",
            " 16  yauth         185437 non-null  int32   \n",
            " 17  yautcor       102165 non-null  float64 \n",
            " 18  yautcorh      185437 non-null  int32   \n",
            " 19  ytrabajocor   73509 non-null   float32 \n",
            " 20  ytrabajocorh  185437 non-null  float32 \n",
            " 21  yae           185339 non-null  float64 \n",
            "dtypes: category(7), float32(2), float64(6), int16(3), int32(2), int8(2)\n",
            "memory usage: 15.6 MB\n"
          ]
        }
      ],
      "source": [
        "df_casen2020.info()"
      ]
    },
    {
      "cell_type": "code",
      "execution_count": 12,
      "metadata": {
        "colab": {
          "base_uri": "https://localhost:8080/",
          "height": 307
        },
        "id": "MX5FvFkNizaM",
        "outputId": "1298a51f-08b0-42e0-f973-8e61be19600e"
      },
      "outputs": [
        {
          "output_type": "execute_result",
          "data": {
            "text/plain": [
              "<matplotlib.axes._subplots.AxesSubplot at 0x7f88d185e510>"
            ]
          },
          "metadata": {},
          "execution_count": 12
        },
        {
          "output_type": "display_data",
          "data": {
            "image/png": "[encoded data removed]",
            "text/plain": [
              "<Figure size 432x288 with 1 Axes>"
            ]
          },
          "metadata": {
            "needs_background": "light"
          }
        }
      ],
      "source": [
        "sns.scatterplot(data=df_casen2020, x=\"esc\", y=\"yaut\", alpha=0.5)"
      ]
    },
    {
      "cell_type": "markdown",
      "metadata": {
        "id": "AUZcKC-bizaN"
      },
      "source": [
        "## Series de tiempo\n",
        "\n",
        "En cambio, un tipo diferente de datos son las **Series Temporales** o tambien longitudinales.\n",
        "\n",
        "En este tipo de información, se tiene diferentes momentos del tiempo (día, semana, mes, año, etc.) para una misma unidad de análisis (individuo, país, empresa, etc)\n",
        "\n",
        "Ejemplos típicos de series de tiempo son: \n",
        "- Datos macroeconómicos (PIB. Inglación, empleo, etc.)\n",
        "- Financieros (precios de acciones)\n",
        "- Empresariales (Ventas, costos, etc...)\n"
      ]
    },
    {
      "cell_type": "code",
      "execution_count": 20,
      "metadata": {
        "colab": {
          "base_uri": "https://localhost:8080/",
          "height": 419
        },
        "id": "uv6rhMDsizaN",
        "outputId": "989b0e91-d542-4a5a-dfac-ad94867dd358"
      },
      "outputs": [
        {
          "output_type": "execute_result",
          "data": {
            "text/html": [
              "<div>\n",
              "<style scoped>\n",
              "    .dataframe tbody tr th:only-of-type {\n",
              "        vertical-align: middle;\n",
              "    }\n",
              "\n",
              "    .dataframe tbody tr th {\n",
              "        vertical-align: top;\n",
              "    }\n",
              "\n",
              "    .dataframe thead th {\n",
              "        text-align: right;\n",
              "    }\n",
              "</style>\n",
              "<table border=\"1\" class=\"dataframe\">\n",
              "  <thead>\n",
              "    <tr style=\"text-align: right;\">\n",
              "      <th></th>\n",
              "      <th>date</th>\n",
              "      <th>open</th>\n",
              "      <th>high</th>\n",
              "      <th>low</th>\n",
              "      <th>close</th>\n",
              "      <th>adjclose</th>\n",
              "      <th>volume</th>\n",
              "      <th>ticker</th>\n",
              "    </tr>\n",
              "  </thead>\n",
              "  <tbody>\n",
              "    <tr>\n",
              "      <th>0</th>\n",
              "      <td>2009-11-30</td>\n",
              "      <td>143.699997</td>\n",
              "      <td>145.910004</td>\n",
              "      <td>135.110001</td>\n",
              "      <td>137.580002</td>\n",
              "      <td>137.580002</td>\n",
              "      <td>31354344</td>\n",
              "      <td>AMZN</td>\n",
              "    </tr>\n",
              "    <tr>\n",
              "      <th>1</th>\n",
              "      <td>2009-12-07</td>\n",
              "      <td>138.000000</td>\n",
              "      <td>139.000000</td>\n",
              "      <td>129.820007</td>\n",
              "      <td>134.149994</td>\n",
              "      <td>134.149994</td>\n",
              "      <td>47882745</td>\n",
              "      <td>AMZN</td>\n",
              "    </tr>\n",
              "    <tr>\n",
              "      <th>2</th>\n",
              "      <td>2009-12-14</td>\n",
              "      <td>132.429993</td>\n",
              "      <td>132.610001</td>\n",
              "      <td>125.647400</td>\n",
              "      <td>128.479996</td>\n",
              "      <td>128.479996</td>\n",
              "      <td>45806511</td>\n",
              "      <td>AMZN</td>\n",
              "    </tr>\n",
              "    <tr>\n",
              "      <th>3</th>\n",
              "      <td>2009-12-21</td>\n",
              "      <td>130.449997</td>\n",
              "      <td>139.699997</td>\n",
              "      <td>130.190002</td>\n",
              "      <td>138.470001</td>\n",
              "      <td>138.470001</td>\n",
              "      <td>32417131</td>\n",
              "      <td>AMZN</td>\n",
              "    </tr>\n",
              "    <tr>\n",
              "      <th>4</th>\n",
              "      <td>2009-12-28</td>\n",
              "      <td>139.899994</td>\n",
              "      <td>142.580002</td>\n",
              "      <td>134.520004</td>\n",
              "      <td>134.520004</td>\n",
              "      <td>134.520004</td>\n",
              "      <td>28617119</td>\n",
              "      <td>AMZN</td>\n",
              "    </tr>\n",
              "    <tr>\n",
              "      <th>...</th>\n",
              "      <td>...</td>\n",
              "      <td>...</td>\n",
              "      <td>...</td>\n",
              "      <td>...</td>\n",
              "      <td>...</td>\n",
              "      <td>...</td>\n",
              "      <td>...</td>\n",
              "      <td>...</td>\n",
              "    </tr>\n",
              "    <tr>\n",
              "      <th>518</th>\n",
              "      <td>2019-11-04</td>\n",
              "      <td>1801.010010</td>\n",
              "      <td>1815.060059</td>\n",
              "      <td>1774.040039</td>\n",
              "      <td>1785.880005</td>\n",
              "      <td>1785.880005</td>\n",
              "      <td>11464532</td>\n",
              "      <td>AMZN</td>\n",
              "    </tr>\n",
              "    <tr>\n",
              "      <th>519</th>\n",
              "      <td>2019-11-11</td>\n",
              "      <td>1778.000000</td>\n",
              "      <td>1786.219971</td>\n",
              "      <td>1732.859985</td>\n",
              "      <td>1739.489990</td>\n",
              "      <td>1739.489990</td>\n",
              "      <td>13114185</td>\n",
              "      <td>AMZN</td>\n",
              "    </tr>\n",
              "    <tr>\n",
              "      <th>520</th>\n",
              "      <td>2019-11-18</td>\n",
              "      <td>1738.300049</td>\n",
              "      <td>1762.524048</td>\n",
              "      <td>1722.709961</td>\n",
              "      <td>1745.719971</td>\n",
              "      <td>1745.719971</td>\n",
              "      <td>13052220</td>\n",
              "      <td>AMZN</td>\n",
              "    </tr>\n",
              "    <tr>\n",
              "      <th>521</th>\n",
              "      <td>2019-11-25</td>\n",
              "      <td>1753.250000</td>\n",
              "      <td>1824.689941</td>\n",
              "      <td>1753.239990</td>\n",
              "      <td>1800.800049</td>\n",
              "      <td>1800.800049</td>\n",
              "      <td>11639181</td>\n",
              "      <td>AMZN</td>\n",
              "    </tr>\n",
              "    <tr>\n",
              "      <th>522</th>\n",
              "      <td>2019-12-02</td>\n",
              "      <td>1804.400024</td>\n",
              "      <td>1805.550049</td>\n",
              "      <td>1747.229980</td>\n",
              "      <td>1769.959961</td>\n",
              "      <td>1769.959961</td>\n",
              "      <td>7461332</td>\n",
              "      <td>AMZN</td>\n",
              "    </tr>\n",
              "  </tbody>\n",
              "</table>\n",
              "<p>523 rows × 8 columns</p>\n",
              "</div>"
            ],
            "text/plain": [
              "          date         open         high  ...     adjclose    volume  ticker\n",
              "0   2009-11-30   143.699997   145.910004  ...   137.580002  31354344    AMZN\n",
              "1   2009-12-07   138.000000   139.000000  ...   134.149994  47882745    AMZN\n",
              "2   2009-12-14   132.429993   132.610001  ...   128.479996  45806511    AMZN\n",
              "3   2009-12-21   130.449997   139.699997  ...   138.470001  32417131    AMZN\n",
              "4   2009-12-28   139.899994   142.580002  ...   134.520004  28617119    AMZN\n",
              "..         ...          ...          ...  ...          ...       ...     ...\n",
              "518 2019-11-04  1801.010010  1815.060059  ...  1785.880005  11464532    AMZN\n",
              "519 2019-11-11  1778.000000  1786.219971  ...  1739.489990  13114185    AMZN\n",
              "520 2019-11-18  1738.300049  1762.524048  ...  1745.719971  13052220    AMZN\n",
              "521 2019-11-25  1753.250000  1824.689941  ...  1800.800049  11639181    AMZN\n",
              "522 2019-12-02  1804.400024  1805.550049  ...  1769.959961   7461332    AMZN\n",
              "\n",
              "[523 rows x 8 columns]"
            ]
          },
          "metadata": {},
          "execution_count": 20
        }
      ],
      "source": [
        "# Ejemplo datos de acciones\n",
        "\n",
        "# Usemos la api de Yahoo finance: \n",
        "#pip install yahoo_fin y pip install requests_html\n",
        "\n",
        "\n",
        "from yahoo_fin.stock_info import get_data\n",
        "\n",
        "amazon_weekly= get_data(\"amzn\", start_date=\"12/04/2009\", end_date=\"12/04/2019\", index_as_date = False, interval=\"1wk\")\n",
        "amazon_weekly\n"
      ]
    },
    {
      "cell_type": "code",
      "execution_count": 21,
      "metadata": {
        "colab": {
          "base_uri": "https://localhost:8080/",
          "height": 296
        },
        "id": "J9x1EymHizaO",
        "outputId": "45ac3456-d37d-4b8d-a2ff-8dc2750ebf00"
      },
      "outputs": [
        {
          "output_type": "execute_result",
          "data": {
            "text/plain": [
              "<matplotlib.axes._subplots.AxesSubplot at 0x7f88ce46d350>"
            ]
          },
          "metadata": {},
          "execution_count": 21
        },
        {
          "output_type": "display_data",
          "data": {
            "image/png": "[encoded data removed]",
            "text/plain": [
              "<Figure size 432x288 with 1 Axes>"
            ]
          },
          "metadata": {
            "needs_background": "light"
          }
        }
      ],
      "source": [
        "sns.scatterplot(data=amazon_weekly, y=\"open\", x=\"date\")"
      ]
    },
    {
      "cell_type": "markdown",
      "metadata": {
        "id": "SmoPxk86izaO"
      },
      "source": [
        "#### Uso series de tiempo\n",
        "\n",
        "La información temporal(de series de tiempo) permite responder cómo una variable (o más) responde a cambios a través del tiempo.\n",
        "- ¿Cuál es el efecto causal dinámico de Xt sobre Yt? \n",
        "- ¿Cuál es la mejor predicción del valor de Y en el futuro?\n",
        "  \n",
        "**PERO su uso sin cuidado puede llevarnos a conclusiones MUY equiviocadas**\n",
        "\n",
        "\n",
        "![Ejemplo idotamente peligroso](https://github.com/cediazr/taller_seriestiempo_IDS/blob/main/slide_figuras/spurius.png?raw=1)\n",
        "\n",
        "\n",
        "(Fuente: [https://www.tylervigen.com/spurious-correlations](https://www.tylervigen.com/spurious-correlations))"
      ]
    },
    {
      "cell_type": "markdown",
      "metadata": {
        "id": "DwEbeRVfizaO"
      },
      "source": [
        "Trabajar con series de tiempo no es para nada sencillo: **necesitaremos técnicas nuevas.**\n",
        "\n",
        "¿Por qué? \n",
        "\n",
        "Necesitaremos modelos sofisticados de errores y técnicas para estimarlos, por ciertas dieferencias en la naturaleza del **proceso generador de datos**"
      ]
    },
    {
      "cell_type": "markdown",
      "metadata": {
        "id": "ABXy-Tn1izaO"
      },
      "source": [
        "## Panel\n",
        "\n",
        "El último tipo de datos, es lo que se llama un panel. Este es la combinacion de los dos tipos anteriores, donde para un conjunto de individuos tenemos varias observaciones en el tiempo.\n",
        "\n",
        "Suele ser el tipo de datos más completo, pero tabien más dificil de conseguir. Además, enfrenta los problemas típicos de ambos tipos anteriores, dependiendo si es un panel corto o largo.\n",
        "\n",
        "Una alternativa a etsos son los llamados pooled cross section.\n",
        "\n",
        "Ela análisis de este tipo de datos escapa a los objetivos del taller, pero una introducción pueden revisarla en Stock y Watson Cap. 10.\n",
        "\n"
      ]
    },
    {
      "cell_type": "markdown",
      "metadata": {
        "id": "9G36nBMBizaP"
      },
      "source": [
        "# Corte transversal vs series de tiempo\n",
        "\n",
        "## Muestras en corte transversal\n",
        "\n",
        "En corte transversal solemos trabajar con **MUESTRAS**\n",
        "\n",
        "![Corte transversal](https://github.com/cediazr/taller_seriestiempo_IDS/blob/main/slide_figuras/datos_ct.png?raw=1)\n",
        "\n",
        "Estimamos modelos de la forma:\n",
        "$$ y_{i}=\\beta_{0}+\\beta_{1}x_{1i}+\\dots+\\beta_{1}x_{ki}+u_{i} $$\n",
        "\n",
        "Estos modelos representan una correlación marginal en las observaciones entre y y x's  (escalada por la varianza de x) y para que podamos interpretarlas causalmente tenemos varias condiciones o supuetsos que de sedeb cumplir.\n",
        "\n",
        "Uno de estos, es el **supuesto de exogeneidad**: $$  E[u_{i}|X_{i}]=0 $$\n",
        "\n",
        "Sin embargo, esta forma de ver este supuesto es una **simplificación** ya que, como estamos en una uestra aleatoria, no tenemos que verificar que los efectos cruzados tambien sean exogenos:\n",
        "\n",
        "$$  E[u_{i}|X_{j}]=0 $$\n",
        "\n",
        "* Esto se daba por cumplido, como consecuencia de que era una muestra aletaoria.\n",
        "* Lo cual, generalente, ocurre en corte transversal por lo cual cada observación es i.i.d.\n"
      ]
    },
    {
      "cell_type": "markdown",
      "metadata": {
        "id": "sbs7_9rvizaP"
      },
      "source": [
        "\n",
        "\n",
        "## La imposibilidad de la muestra en series de tiempo\n",
        "\n",
        "En serie de tiempo, nuestro universo es un proceso estocástico:\n",
        "\n",
        "![Corte transversal](https://github.com/cediazr/taller_seriestiempo_IDS/blob/main/slide_figuras/datos_st.png?raw=1)\n",
        "\n",
        "Estimamos modelos de la forma:\n",
        "\n",
        "$$ y_{t}=\\beta_{0}+\\beta_{1}x_{1t}+\\dots+\\beta_{1}x_{kt}+u_{t} $$\n",
        "\n",
        "* Estamos en presencia de un **proceso estocástico** \n",
        "* En cada momento se observa un posible resultado (o realización) del proceso estocásticos.\n",
        "\n",
        "Esto tiene vaias implicancias:\n",
        "\n",
        "* NO SON INDEPENDIENTES ya que por construcción, viene del mismo proceso.\n",
        "* Por lo tanto, el supuesto de exogeneidad **$E[u_{i}|X_{i}]=0 $** NO ES SUFICIENTE\n",
        "* Requerimos su versión más exigente: (Exogeneidad estricta)\n",
        "$$E[u_{t}|X_{s}]=0 \\qquad \\forall s $$\n",
        "\n",
        "* Este supuesto, generalmente NO SE CUMPLE.\n",
        "* Si se cumpliese, seguiruíamos operando como siempre con modelos de regresión multiple estándar."
      ]
    },
    {
      "cell_type": "markdown",
      "metadata": {
        "id": "LDOQ96Q6izaP"
      },
      "source": [
        "**¿Qué hacer entonces?**\n",
        "\n",
        "Reconocer los datos como procesos estocásticos e incluir sus particularidades en la modelación. De eso se tratarán los dos siguientes bloques\n",
        "- Bloque 2: Peculiaridades de los procesos estocasticos y su exploración en la data\n",
        "- Bloque 3: Modelamiento\n",
        "\n"
      ]
    },
    {
      "cell_type": "markdown",
      "metadata": {
        "id": "vrXHhOGjizaP"
      },
      "source": [
        "# Conceptos propios de las series de tiempo\n",
        "\n",
        "Dado que una serie de tiempo tiene un orden específico, que en si mismo es importante. En base a este orden se suelen crear nuevos indicadores o variables. Revisemos los más comunes:\n",
        "\n",
        "## Notación y transformaciones:\n",
        "\n",
        "**Notación**\n",
        "\n",
        "* Variables de series de tiempo se denominan con sub-índice t para indicar el perído en el tiempo:   $y_t$\n",
        "* El total de periodos se suele referir como T.\n",
        "\n",
        "### Rezagos \n",
        "\n",
        "* Un **rezago** es el valor de la variable en períodos anteriores:   \n",
        "  * Primer rezago: $y_{t-1}$ es el valor 1 período anterior\n",
        "  * Segundo rezago: $y_{t-2}$ es el valor 2 períodos atrás\n",
        "  * j-ésimo rezago:  $y_{t-j}$ es el valor j períodos atrás\n",
        "\n",
        "### Diferencias\n",
        "\n",
        "Una diferencia corresponde al cambio en una variable entre dos periodos específicos y se usa la notación $\\Delta$\n",
        "\n",
        "* Primera diferencia: $$\\Delta y_t = y_t- y_{t-1}$$\n",
        "\n",
        "### Tasas de crecimiento\n",
        "\n",
        "Si calculamos la primera diferencia el logaritmo natural, podemos obtener incorporar la tasa de crecimiento en una regresión:\n",
        "\n",
        "* Primera diferencia en logs:\n",
        "  $$ \\Delta ln(y_{t})=ln(y_{t})-ln(y_{t-1}) $$\n",
        "\n",
        "* Cambio porcentual de $y_t$  entre $t -1$ y $t\\approx  100\\times \\Delta ln(y_{t})$\n",
        "\n",
        "## Tipos de modelos\n",
        "\n",
        " ### Modelo estático \n",
        "\n",
        " Se modela la relación contemporánea entre dos variables, i.e., relación en el mismo momento en el tiempo\n",
        "\n",
        "$$y_{t}=\\beta_{0}+\\beta_{1}z_{t}+u_{t}$$\n",
        "\n",
        "Ejemplos:\n",
        "* Modelo Simple:\n",
        "$$ inflación_{t}=\\beta_{0}+\\beta_{1}desempleo_{t}+u_{t}$$\n",
        "\n",
        "* Modelo múltiple:\n",
        "$$ homicidio_{t}=\\beta_{0}+\\beta_{1}condena_{t}+\\beta_{2}desmepleo_{t}+\\beta_{3}hombres_{t}+u_{t} $$\n",
        "\n",
        " ### Modelo dinámico\n",
        "\n",
        " Se incluyen efectos temporales, que se piensan que tienen que ver con **tendencias**, **inercia** o **estacionalidades**\n",
        "\n",
        " $$ inflación_{t}=\\beta_{0}+\\beta_{1}desempleo_{t}+\\beta_{2} inflación_{t-1} +u_{t}$$"
      ]
    },
    {
      "cell_type": "markdown",
      "metadata": {
        "id": "_qW9N7VqizaQ"
      },
      "source": [
        "# Ejemplos diferentes series de tiempo\n",
        "\n",
        "Revisaremos algunos ejemplos de diefernets series de tiempo para observar diferntes regularidades graficas, como tendencias, ciclos y compotamiento estacional.\n",
        "\n",
        "## 1. PIB de EEUU\n",
        "\n",
        "Empecemos con un ejemplo muy clásico de series de tiempo, con datos del PIB de Estados Unidos"
      ]
    },
    {
      "cell_type": "code",
      "execution_count": 23,
      "metadata": {
        "colab": {
          "base_uri": "https://localhost:8080/"
        },
        "id": "cu6GlTEJizaQ",
        "outputId": "28dc5400-3eb8-45d1-efa1-fc459c728ac6"
      },
      "outputs": [
        {
          "output_type": "stream",
          "name": "stdout",
          "text": [
            "<class 'pandas.core.frame.DataFrame'>\n",
            "RangeIndex: 290 entries, 0 to 289\n",
            "Data columns (total 2 columns):\n",
            " #   Column  Non-Null Count  Dtype         \n",
            "---  ------  --------------  -----         \n",
            " 0   DATE    290 non-null    datetime64[ns]\n",
            " 1   GDP     290 non-null    float64       \n",
            "dtypes: datetime64[ns](1), float64(1)\n",
            "memory usage: 4.7 KB\n"
          ]
        }
      ],
      "source": [
        "#Importamos desde la carpeta\n",
        "#GDP = pd.read_csv('data/GDP.csv', parse_dates=['DATE'])\n",
        "\n",
        "# Nota: si no les reconoce bien la dependencia de la carpeta, pueden usar también\n",
        "\n",
        "GDP = pd.read_csv('https://github.com/melanieoyarzun/taller_seriestiempo_IDS/blob/8c0b9774be8d4103da3801d3069d82b4fe006461/Data/GDP.csv?raw=true', parse_dates=['DATE'])\n",
        "\n",
        "\n",
        "GDP.info()"
      ]
    },
    {
      "cell_type": "code",
      "execution_count": 24,
      "metadata": {
        "colab": {
          "base_uri": "https://localhost:8080/"
        },
        "id": "NQmv6xltizaQ",
        "outputId": "aaa78115-2a72-480e-dc26-68a384be6a2c"
      },
      "outputs": [
        {
          "output_type": "stream",
          "name": "stdout",
          "text": [
            "<class 'pandas.core.frame.DataFrame'>\n",
            "DatetimeIndex: 290 entries, 1947-01-01 to 2019-04-01\n",
            "Data columns (total 1 columns):\n",
            " #   Column  Non-Null Count  Dtype  \n",
            "---  ------  --------------  -----  \n",
            " 0   GDP     290 non-null    float64\n",
            "dtypes: float64(1)\n",
            "memory usage: 4.5 KB\n"
          ]
        }
      ],
      "source": [
        "# Cambiamos el index a que sea la fecha\n",
        "\n",
        "GDP.set_index('DATE', inplace=True)\n",
        "GDP.info()"
      ]
    },
    {
      "cell_type": "code",
      "execution_count": null,
      "metadata": {
        "id": "KTqT3dDKizaQ",
        "outputId": "392e0ff4-23b8-475e-dda5-2aef88e9847a"
      },
      "outputs": [
        {
          "data": {
            "text/html": [
              "<div>\n",
              "<style scoped>\n",
              "    .dataframe tbody tr th:only-of-type {\n",
              "        vertical-align: middle;\n",
              "    }\n",
              "\n",
              "    .dataframe tbody tr th {\n",
              "        vertical-align: top;\n",
              "    }\n",
              "\n",
              "    .dataframe thead th {\n",
              "        text-align: right;\n",
              "    }\n",
              "</style>\n",
              "<table border=\"1\" class=\"dataframe\">\n",
              "  <thead>\n",
              "    <tr style=\"text-align: right;\">\n",
              "      <th></th>\n",
              "      <th>GDP</th>\n",
              "    </tr>\n",
              "    <tr>\n",
              "      <th>DATE</th>\n",
              "      <th></th>\n",
              "    </tr>\n",
              "  </thead>\n",
              "  <tbody>\n",
              "    <tr>\n",
              "      <th>1947-01-01</th>\n",
              "      <td>2033.061</td>\n",
              "    </tr>\n",
              "    <tr>\n",
              "      <th>1947-04-01</th>\n",
              "      <td>2027.639</td>\n",
              "    </tr>\n",
              "    <tr>\n",
              "      <th>1947-07-01</th>\n",
              "      <td>2023.452</td>\n",
              "    </tr>\n",
              "    <tr>\n",
              "      <th>1947-10-01</th>\n",
              "      <td>2055.103</td>\n",
              "    </tr>\n",
              "    <tr>\n",
              "      <th>1948-01-01</th>\n",
              "      <td>2086.017</td>\n",
              "    </tr>\n",
              "  </tbody>\n",
              "</table>\n",
              "</div>"
            ],
            "text/plain": [
              "                 GDP\n",
              "DATE                \n",
              "1947-01-01  2033.061\n",
              "1947-04-01  2027.639\n",
              "1947-07-01  2023.452\n",
              "1947-10-01  2055.103\n",
              "1948-01-01  2086.017"
            ]
          },
          "execution_count": 10,
          "metadata": {},
          "output_type": "execute_result"
        }
      ],
      "source": [
        "GDP.head()"
      ]
    },
    {
      "cell_type": "code",
      "execution_count": null,
      "metadata": {
        "id": "4LKBPl3MizaR",
        "outputId": "82fab617-2f25-41c7-bbcc-a4432f4fabfe"
      },
      "outputs": [
        {
          "data": {
            "text/plain": [
              "Text(0.5, 0, 'Año')"
            ]
          },
          "execution_count": 11,
          "metadata": {},
          "output_type": "execute_result"
        },
        {
          "data": {
            "image/png": "[encoded data removed]",
            "text/plain": [
              "<Figure size 432x288 with 1 Axes>"
            ]
          },
          "metadata": {
            "needs_background": "light"
          },
          "output_type": "display_data"
        }
      ],
      "source": [
        "# Graficamos\n",
        "\n",
        "ax = GDP['1940':].plot(legend=False) \n",
        "ax.set_ylabel(r'GDP ($\\$B$)')\n",
        "ax.set_xlabel(r'Año')"
      ]
    },
    {
      "cell_type": "markdown",
      "metadata": {
        "id": "fyiHW5DCizaR"
      },
      "source": [
        "Observamos claramente una **tendencia** al alza."
      ]
    },
    {
      "cell_type": "code",
      "execution_count": null,
      "metadata": {
        "id": "5H-DOpn2izaR",
        "outputId": "1c01384f-fbb4-430f-a240-d889a24965b6"
      },
      "outputs": [
        {
          "data": {
            "text/plain": [
              "Text(0.5, 0, 'Año')"
            ]
          },
          "execution_count": 12,
          "metadata": {},
          "output_type": "execute_result"
        },
        {
          "data": {
            "image/png": "[encoded data removed]",
            "text/plain": [
              "<Figure size 432x288 with 1 Axes>"
            ]
          },
          "metadata": {
            "needs_background": "light"
          },
          "output_type": "display_data"
        }
      ],
      "source": [
        "# Como esta indizada al año, se pueden elegir dieferntes conjuntos para graficar. \n",
        "# Por ejemplo, veamos con más atencion en torno a la crisis subprime\n",
        "\n",
        "ax = GDP['2007':'2012'].plot(legend=False) \n",
        "ax.set_ylabel(r'GDP ($\\$B$)')\n",
        "ax.set_xlabel(r'Año')"
      ]
    },
    {
      "cell_type": "markdown",
      "metadata": {
        "id": "yWZBptQuizaR"
      },
      "source": [
        "## 2. Mortalidad por influenza\n",
        "\n",
        "Vemos un segundo ejemplo, con datos de salud. "
      ]
    },
    {
      "cell_type": "code",
      "execution_count": null,
      "metadata": {
        "id": "Yrwq2L31izaR",
        "outputId": "3cb3e8df-583c-4403-f65c-018d2282d0fe"
      },
      "outputs": [
        {
          "data": {
            "text/html": [
              "<div>\n",
              "<style scoped>\n",
              "    .dataframe tbody tr th:only-of-type {\n",
              "        vertical-align: middle;\n",
              "    }\n",
              "\n",
              "    .dataframe tbody tr th {\n",
              "        vertical-align: top;\n",
              "    }\n",
              "\n",
              "    .dataframe thead th {\n",
              "        text-align: right;\n",
              "    }\n",
              "</style>\n",
              "<table border=\"1\" class=\"dataframe\">\n",
              "  <thead>\n",
              "    <tr style=\"text-align: right;\">\n",
              "      <th></th>\n",
              "      <th>Year</th>\n",
              "      <th>Week</th>\n",
              "      <th>Percent of Deaths Due to Pneumonia and Influenza</th>\n",
              "      <th>Expected</th>\n",
              "      <th>Threshold</th>\n",
              "      <th>All Deaths</th>\n",
              "      <th>Pneumonia Deaths</th>\n",
              "      <th>Influenza Deaths</th>\n",
              "    </tr>\n",
              "  </thead>\n",
              "  <tbody>\n",
              "    <tr>\n",
              "      <th>0</th>\n",
              "      <td>2012</td>\n",
              "      <td>1</td>\n",
              "      <td>8.479120</td>\n",
              "      <td>8.15718</td>\n",
              "      <td>8.49104</td>\n",
              "      <td>51102</td>\n",
              "      <td>4323</td>\n",
              "      <td>10</td>\n",
              "    </tr>\n",
              "    <tr>\n",
              "      <th>1</th>\n",
              "      <td>2012</td>\n",
              "      <td>2</td>\n",
              "      <td>8.343472</td>\n",
              "      <td>8.22181</td>\n",
              "      <td>8.55556</td>\n",
              "      <td>50962</td>\n",
              "      <td>4245</td>\n",
              "      <td>7</td>\n",
              "    </tr>\n",
              "    <tr>\n",
              "      <th>2</th>\n",
              "      <td>2012</td>\n",
              "      <td>3</td>\n",
              "      <td>8.370908</td>\n",
              "      <td>8.27534</td>\n",
              "      <td>8.60898</td>\n",
              "      <td>51010</td>\n",
              "      <td>4261</td>\n",
              "      <td>9</td>\n",
              "    </tr>\n",
              "    <tr>\n",
              "      <th>3</th>\n",
              "      <td>2012</td>\n",
              "      <td>4</td>\n",
              "      <td>8.448458</td>\n",
              "      <td>8.31696</td>\n",
              "      <td>8.65049</td>\n",
              "      <td>50163</td>\n",
              "      <td>4227</td>\n",
              "      <td>11</td>\n",
              "    </tr>\n",
              "    <tr>\n",
              "      <th>4</th>\n",
              "      <td>2012</td>\n",
              "      <td>5</td>\n",
              "      <td>8.140332</td>\n",
              "      <td>8.34602</td>\n",
              "      <td>8.67945</td>\n",
              "      <td>49568</td>\n",
              "      <td>4026</td>\n",
              "      <td>9</td>\n",
              "    </tr>\n",
              "  </tbody>\n",
              "</table>\n",
              "</div>"
            ],
            "text/plain": [
              "   Year  Week  Percent of Deaths Due to Pneumonia and Influenza  Expected  \\\n",
              "0  2012     1                                          8.479120   8.15718   \n",
              "1  2012     2                                          8.343472   8.22181   \n",
              "2  2012     3                                          8.370908   8.27534   \n",
              "3  2012     4                                          8.448458   8.31696   \n",
              "4  2012     5                                          8.140332   8.34602   \n",
              "\n",
              "   Threshold  All Deaths  Pneumonia Deaths  Influenza Deaths  \n",
              "0    8.49104       51102              4323                10  \n",
              "1    8.55556       50962              4245                 7  \n",
              "2    8.60898       51010              4261                 9  \n",
              "3    8.65049       50163              4227                11  \n",
              "4    8.67945       49568              4026                 9  "
            ]
          },
          "execution_count": 13,
          "metadata": {},
          "output_type": "execute_result"
        }
      ],
      "source": [
        "ILI = pd.read_csv('data/CDC.csv')\n",
        "\n",
        "# Nota: si no les reconoce bien la dependencia de la carpeta, pueden usar también\n",
        "\n",
        "# ILI = pd.read_csv('https://github.com/melanieoyarzun/taller_seriestiempo_IDS/blob/8c0b9774be8d4103da3801d3069d82b4fe006461/Data/CDC.csv?raw=true')\n",
        "\n",
        "\n",
        "\n",
        "ILI.head()"
      ]
    },
    {
      "cell_type": "code",
      "execution_count": null,
      "metadata": {
        "id": "ULI-1ru3izaR",
        "outputId": "d3a3d4b1-0d1b-4f3e-dcd1-44e3e1ef2b2c"
      },
      "outputs": [
        {
          "data": {
            "text/html": [
              "<div>\n",
              "<style scoped>\n",
              "    .dataframe tbody tr th:only-of-type {\n",
              "        vertical-align: middle;\n",
              "    }\n",
              "\n",
              "    .dataframe tbody tr th {\n",
              "        vertical-align: top;\n",
              "    }\n",
              "\n",
              "    .dataframe thead th {\n",
              "        text-align: right;\n",
              "    }\n",
              "</style>\n",
              "<table border=\"1\" class=\"dataframe\">\n",
              "  <thead>\n",
              "    <tr style=\"text-align: right;\">\n",
              "      <th></th>\n",
              "      <th>Year</th>\n",
              "      <th>Week</th>\n",
              "      <th>Percent of Deaths Due to Pneumonia and Influenza</th>\n",
              "      <th>Expected</th>\n",
              "      <th>Threshold</th>\n",
              "      <th>All Deaths</th>\n",
              "      <th>Pneumonia Deaths</th>\n",
              "      <th>Influenza Deaths</th>\n",
              "      <th>date</th>\n",
              "    </tr>\n",
              "  </thead>\n",
              "  <tbody>\n",
              "    <tr>\n",
              "      <th>0</th>\n",
              "      <td>2012</td>\n",
              "      <td>1</td>\n",
              "      <td>8.479120</td>\n",
              "      <td>8.15718</td>\n",
              "      <td>8.49104</td>\n",
              "      <td>51102</td>\n",
              "      <td>4323</td>\n",
              "      <td>10</td>\n",
              "      <td>2012.019231</td>\n",
              "    </tr>\n",
              "    <tr>\n",
              "      <th>1</th>\n",
              "      <td>2012</td>\n",
              "      <td>2</td>\n",
              "      <td>8.343472</td>\n",
              "      <td>8.22181</td>\n",
              "      <td>8.55556</td>\n",
              "      <td>50962</td>\n",
              "      <td>4245</td>\n",
              "      <td>7</td>\n",
              "      <td>2012.038462</td>\n",
              "    </tr>\n",
              "    <tr>\n",
              "      <th>2</th>\n",
              "      <td>2012</td>\n",
              "      <td>3</td>\n",
              "      <td>8.370908</td>\n",
              "      <td>8.27534</td>\n",
              "      <td>8.60898</td>\n",
              "      <td>51010</td>\n",
              "      <td>4261</td>\n",
              "      <td>9</td>\n",
              "      <td>2012.057692</td>\n",
              "    </tr>\n",
              "    <tr>\n",
              "      <th>3</th>\n",
              "      <td>2012</td>\n",
              "      <td>4</td>\n",
              "      <td>8.448458</td>\n",
              "      <td>8.31696</td>\n",
              "      <td>8.65049</td>\n",
              "      <td>50163</td>\n",
              "      <td>4227</td>\n",
              "      <td>11</td>\n",
              "      <td>2012.076923</td>\n",
              "    </tr>\n",
              "    <tr>\n",
              "      <th>4</th>\n",
              "      <td>2012</td>\n",
              "      <td>5</td>\n",
              "      <td>8.140332</td>\n",
              "      <td>8.34602</td>\n",
              "      <td>8.67945</td>\n",
              "      <td>49568</td>\n",
              "      <td>4026</td>\n",
              "      <td>9</td>\n",
              "      <td>2012.096154</td>\n",
              "    </tr>\n",
              "  </tbody>\n",
              "</table>\n",
              "</div>"
            ],
            "text/plain": [
              "   Year  Week  Percent of Deaths Due to Pneumonia and Influenza  Expected  \\\n",
              "0  2012     1                                          8.479120   8.15718   \n",
              "1  2012     2                                          8.343472   8.22181   \n",
              "2  2012     3                                          8.370908   8.27534   \n",
              "3  2012     4                                          8.448458   8.31696   \n",
              "4  2012     5                                          8.140332   8.34602   \n",
              "\n",
              "   Threshold  All Deaths  Pneumonia Deaths  Influenza Deaths         date  \n",
              "0    8.49104       51102              4323                10  2012.019231  \n",
              "1    8.55556       50962              4245                 7  2012.038462  \n",
              "2    8.60898       51010              4261                 9  2012.057692  \n",
              "3    8.65049       50163              4227                11  2012.076923  \n",
              "4    8.67945       49568              4026                 9  2012.096154  "
            ]
          },
          "execution_count": 14,
          "metadata": {},
          "output_type": "execute_result"
        }
      ],
      "source": [
        "ILI['date'] = ILI['Year']+ILI['Week']/52.\n",
        "ILI.head()"
      ]
    },
    {
      "cell_type": "code",
      "execution_count": null,
      "metadata": {
        "id": "jUUjEADRizaR",
        "outputId": "cf088b78-4a3d-457f-dc5e-b9352cdf62c8"
      },
      "outputs": [
        {
          "data": {
            "text/plain": [
              "Text(0, 0.5, '% Mortalidad')"
            ]
          },
          "execution_count": 15,
          "metadata": {},
          "output_type": "execute_result"
        },
        {
          "data": {
            "image/png": "[encoded data removed]",
            "text/plain": [
              "<Figure size 432x288 with 1 Axes>"
            ]
          },
          "metadata": {
            "needs_background": "light"
          },
          "output_type": "display_data"
        }
      ],
      "source": [
        "ILI.plot(x='date', y=['Percent of Deaths Due to Pneumonia and Influenza', 'Expected', 'Threshold'])\n",
        "ax = plt.gca()\n",
        "ax.legend(['Mortalidad', 'Expected', 'Threshold'])\n",
        "ax.set_xlabel('Año')\n",
        "ax.set_ylabel('% Mortalidad')"
      ]
    },
    {
      "cell_type": "markdown",
      "metadata": {
        "id": "WN0aJWOfizaS"
      },
      "source": [
        "El comportamiento es muy diferente, podemos ver una **estacionalidad**.\n",
        "\n",
        "Es decir hay un cambio periodico asociado al tiempo de la variable."
      ]
    },
    {
      "cell_type": "markdown",
      "metadata": {
        "id": "NfeQKuS3izaS"
      },
      "source": [
        "# Transformaciones\n",
        "\n",
        "En base a estos conceptos, entonces, es muy comun realizar transformaciones a las series de tiempo ya sea para obtener rezagos, diferencias, tasas de crecimiento, etc.\n",
        "Ilustraremos varios de estos, con el dataset del DOw-Jonses indsutrial Average.\n"
      ]
    },
    {
      "cell_type": "code",
      "execution_count": null,
      "metadata": {
        "id": "QCjSVTPXizaS",
        "outputId": "17c079a3-8d70-4528-9b7d-a293ad48f6a0"
      },
      "outputs": [
        {
          "name": "stdout",
          "output_type": "stream",
          "text": [
            "<class 'pandas.core.frame.DataFrame'>\n",
            "Int64Index: 2515 entries, 0 to 2608\n",
            "Data columns (total 2 columns):\n",
            " #   Column  Non-Null Count  Dtype         \n",
            "---  ------  --------------  -----         \n",
            " 0   DATE    2515 non-null   datetime64[ns]\n",
            " 1   DJIA    2515 non-null   float64       \n",
            "dtypes: datetime64[ns](1), float64(1)\n",
            "memory usage: 58.9 KB\n"
          ]
        }
      ],
      "source": [
        "#cargamos los datos\n",
        "DJIA = pd.read_csv('data/DJIA.csv', parse_dates=['DATE'], na_values='.').dropna()\n",
        "\n",
        "\n",
        "# Nota: si no les reconoce bien la dependencia de la carpeta, pueden usar también\n",
        "\n",
        "# DJIA = pd.read_csv('https://github.com/melanieoyarzun/taller_seriestiempo_IDS/blob/8c0b9774be8d4103da3801d3069d82b4fe006461/Data/DJIA.csv?raw=true', parse_dates=['DATE'], na_values='.').dropna()\n",
        "\n",
        "DJIA.info()"
      ]
    },
    {
      "cell_type": "code",
      "execution_count": null,
      "metadata": {
        "id": "kOxsqk4SizaS",
        "outputId": "53d78dd5-7e81-4628-b9e5-bf4e75532b99"
      },
      "outputs": [
        {
          "data": {
            "text/plain": [
              "Text(0.5, 0, 'Año')"
            ]
          },
          "execution_count": 17,
          "metadata": {},
          "output_type": "execute_result"
        },
        {
          "data": {
            "image/png": "[encoded data removed]",
            "text/plain": [
              "<Figure size 432x288 with 1 Axes>"
            ]
          },
          "metadata": {
            "needs_background": "light"
          },
          "output_type": "display_data"
        }
      ],
      "source": [
        "#graficamos\n",
        "DJIA.plot(x='DATE', legend=False)\n",
        "ax = plt.gca()\n",
        "ax.set_ylabel('DJIA')\n",
        "ax.set_xlabel('Año')"
      ]
    },
    {
      "cell_type": "markdown",
      "metadata": {
        "id": "vHN6-_5IizaS"
      },
      "source": [
        "\n",
        "\n",
        "## Diferencias\n",
        "\n",
        "Una manera de remover tendencias de un dataset es diferenciandolo. Como nuestros datasets son discretos, usaremos diferencias finitas."
      ]
    },
    {
      "cell_type": "code",
      "execution_count": null,
      "metadata": {
        "id": "RP2uLKGpizaS"
      },
      "outputs": [],
      "source": [
        "def differentiate(values, d=1):\n",
        "    # First value is required so that we can recover the original values with np.cumsum\n",
        "    x = np.concatenate([[values[0]], values[1:]-values[:-1]])\n",
        "\n",
        "    if d == 1:\n",
        "        return x\n",
        "    else:    \n",
        "        return difference(x, d - 1)"
      ]
    },
    {
      "cell_type": "code",
      "execution_count": null,
      "metadata": {
        "id": "m_Ii841qizaS"
      },
      "outputs": [],
      "source": [
        "values = DJIA['DJIA'].values\n",
        "differences = differentiate(values)"
      ]
    },
    {
      "cell_type": "markdown",
      "metadata": {
        "id": "N0wyekUVizaS"
      },
      "source": [
        "Como podemos ver, el grafico se ve mucho más estacionario."
      ]
    },
    {
      "cell_type": "code",
      "execution_count": null,
      "metadata": {
        "id": "rcgiZ6dtizaT",
        "outputId": "753005dd-6977-42bf-bcf5-32933b0e476e"
      },
      "outputs": [
        {
          "data": {
            "text/plain": [
              "Text(0, 0.5, 'Differences')"
            ]
          },
          "execution_count": 20,
          "metadata": {},
          "output_type": "execute_result"
        },
        {
          "data": {
            "image/png": "[encoded data removed]",
            "text/plain": [
              "<Figure size 432x288 with 1 Axes>"
            ]
          },
          "metadata": {
            "needs_background": "light"
          },
          "output_type": "display_data"
        }
      ],
      "source": [
        "plt.plot(DJIA['DATE'].iloc[1:], differences[1:])\n",
        "plt.xlabel('Date')\n",
        "plt.ylabel('Differences')"
      ]
    },
    {
      "cell_type": "markdown",
      "metadata": {
        "id": "t1sHUqUFizaT"
      },
      "source": [
        "Para recuperar la data original, basta con integrar los puntos diferenciados. "
      ]
    },
    {
      "cell_type": "code",
      "execution_count": null,
      "metadata": {
        "id": "KFwP_xygizaT"
      },
      "outputs": [],
      "source": [
        "def integrate(values, d=1):\n",
        "    x = np.cumsum(values)\n",
        "    \n",
        "    if d == 1:\n",
        "        return x\n",
        "    else:\n",
        "        return integrate(x, d-1)"
      ]
    },
    {
      "cell_type": "code",
      "execution_count": null,
      "metadata": {
        "id": "SRuwjqSLizaT"
      },
      "outputs": [],
      "source": [
        "rebuilt = integrate(differences)"
      ]
    },
    {
      "cell_type": "markdown",
      "metadata": {
        "id": "Rbf-9Qx1izaT"
      },
      "source": [
        "Y un chequeo rapido para ver que son los mismos valores"
      ]
    },
    {
      "cell_type": "code",
      "execution_count": null,
      "metadata": {
        "id": "X5RxfZcNizaT",
        "outputId": "52581aec-9f56-40f2-dae1-73083200f96e"
      },
      "outputs": [
        {
          "data": {
            "text/plain": [
              "0.0"
            ]
          },
          "execution_count": 23,
          "metadata": {},
          "output_type": "execute_result"
        }
      ],
      "source": [
        "np.mean(rebuilt-values)"
      ]
    },
    {
      "cell_type": "code",
      "execution_count": null,
      "metadata": {
        "id": "YYJK6YKJizaT",
        "outputId": "85adcb9f-2286-40f7-ad96-1f48c63212b4"
      },
      "outputs": [
        {
          "data": {
            "text/plain": [
              "Text(0, 0.5, 'Differences')"
            ]
          },
          "execution_count": 24,
          "metadata": {},
          "output_type": "execute_result"
        },
        {
          "data": {
            "image/png": "[encoded data removed]",
            "text/plain": [
              "<Figure size 432x288 with 1 Axes>"
            ]
          },
          "metadata": {
            "needs_background": "light"
          },
          "output_type": "display_data"
        }
      ],
      "source": [
        "# Graficamente es la misma serie original\n",
        "\n",
        "plt.plot(DJIA['DATE'].iloc[1:], rebuilt[1:])\n",
        "plt.xlabel('Date')\n",
        "plt.ylabel('Differences')"
      ]
    },
    {
      "cell_type": "markdown",
      "metadata": {
        "id": "LutARrzVizaT"
      },
      "source": [
        "## Windowing\n",
        "\n",
        "Muchas veces queremos calcular variables de cuerta cantidad en una ventana de datos.\n"
      ]
    },
    {
      "cell_type": "code",
      "execution_count": null,
      "metadata": {
        "id": "GP427fZ1izaT"
      },
      "outputs": [],
      "source": [
        "def rolling(x, order):\n",
        "    npoints = x.shape[0]\n",
        "    running = []\n",
        "    \n",
        "    for i in range(npoints-order+1):\n",
        "        running.append(x[i:i+order])\n",
        "        \n",
        "    return np.array(running)\n"
      ]
    },
    {
      "cell_type": "code",
      "execution_count": null,
      "metadata": {
        "id": "rSITM6x4izaT",
        "outputId": "2ecbff3b-2f4e-4472-c97e-e63e9926ba1f"
      },
      "outputs": [
        {
          "data": {
            "text/plain": [
              "array([[ 0,  1,  2,  3,  4,  5],\n",
              "       [ 1,  2,  3,  4,  5,  6],\n",
              "       [ 2,  3,  4,  5,  6,  7],\n",
              "       [ 3,  4,  5,  6,  7,  8],\n",
              "       [ 4,  5,  6,  7,  8,  9],\n",
              "       [ 5,  6,  7,  8,  9, 10]])"
            ]
          },
          "execution_count": 26,
          "metadata": {},
          "output_type": "execute_result"
        }
      ],
      "source": [
        "#Veamos un ejemplo sencillo\n",
        "values = np.arange(11)\n",
        "values\n",
        "rolling(values, 6)\n"
      ]
    },
    {
      "cell_type": "markdown",
      "metadata": {
        "id": "cnHu3QocizaU"
      },
      "source": [
        "\n",
        "Como tenemos un array con todas las ventanas, esto facilita el calculo de medias moviles o otras variables que requieran calculo iterativo en ciertos intervalos."
      ]
    },
    {
      "cell_type": "code",
      "execution_count": null,
      "metadata": {
        "id": "60yUHO9qizaU",
        "outputId": "157dcfd0-93d1-48e8-d6b8-cfaf25dd09ed"
      },
      "outputs": [
        {
          "data": {
            "text/plain": [
              "array([0.5, 1.5, 2.5, 3.5, 4.5, 5.5, 6.5, 7.5, 8.5, 9.5])"
            ]
          },
          "execution_count": 27,
          "metadata": {},
          "output_type": "execute_result"
        }
      ],
      "source": [
        "rolling(values, 2)\n",
        "rolling(values, 2).mean(axis=1)"
      ]
    },
    {
      "cell_type": "code",
      "execution_count": null,
      "metadata": {
        "id": "PjmDe1ikizaU",
        "outputId": "7b905554-b9bb-4bfa-bfc1-921efdeb54fc"
      },
      "outputs": [
        {
          "data": {
            "text/plain": [
              "array([ 1,  2,  3,  4,  5,  6,  7,  8,  9, 10])"
            ]
          },
          "execution_count": 28,
          "metadata": {},
          "output_type": "execute_result"
        }
      ],
      "source": [
        "#O el maximo, o lo que sea, etc.\n",
        "\n",
        "rolling(values, 2).max(axis=1)"
      ]
    },
    {
      "cell_type": "markdown",
      "metadata": {
        "id": "mtXeIj5IizaU"
      },
      "source": [
        "## Suavizamiento Exponencial\n",
        "\n",
        "Otra manera de suavizar una serie de tiempo ruidosa es mediante el *suavizamiento exponencial*.\n",
        "Esto equivale a realizar una media movil ponderada donde el peso de los valores del pasado son exponencialmente reducidos.\n"
      ]
    },
    {
      "cell_type": "code",
      "execution_count": null,
      "metadata": {
        "id": "hClDK9bAizaU"
      },
      "outputs": [],
      "source": [
        "def ES(values, alpha= 0.05):\n",
        "    N = len(values)\n",
        "    S = [values[0]*alpha]\n",
        "    \n",
        "    for i in range(1, N):\n",
        "        S.append(alpha*values[i]+(1-alpha)*S[-1])\n",
        "        \n",
        "    return np.array(S)\n"
      ]
    },
    {
      "cell_type": "markdown",
      "metadata": {
        "id": "CJIAaZZAizaU"
      },
      "source": [
        "Podemos ver rapidamente, que mientras menor es el valor del alpha, menos ruidosa (o más suave) es el resultado."
      ]
    },
    {
      "cell_type": "code",
      "execution_count": null,
      "metadata": {
        "id": "ypF86KasizaU",
        "outputId": "0d690b11-1a52-4d98-eddf-54519aa9e6d7"
      },
      "outputs": [
        {
          "data": {
            "text/plain": [
              "<matplotlib.legend.Legend at 0x7f8558ddfeb0>"
            ]
          },
          "execution_count": 30,
          "metadata": {},
          "output_type": "execute_result"
        },
        {
          "data": {
            "image/png": "[encoded data removed]",
            "text/plain": [
              "<Figure size 432x288 with 1 Axes>"
            ]
          },
          "metadata": {
            "needs_background": "light"
          },
          "output_type": "display_data"
        }
      ],
      "source": [
        "smooth = []\n",
        "smooth.append(ES(differences[1:], 0.01))\n",
        "smooth.append(ES(differences[1:], 0.1))\n",
        "smooth.append(ES(differences[1:], 0.5))\n",
        "plt.plot(DJIA['DATE'].iloc[1:100], differences[1:100], label='Differences')\n",
        "plt.plot(DJIA['DATE'].iloc[1:100], smooth[2][:99], label=r'$\\alpha=0.5$')\n",
        "plt.plot(DJIA['DATE'].iloc[1:100], smooth[1][:99], label=r'$\\alpha=0.1$')\n",
        "plt.plot(DJIA['DATE'].iloc[1:100], smooth[0][:99], label=r'$\\alpha=0.01$')\n",
        "plt.xlabel('Date')\n",
        "plt.ylabel('Differences')\n",
        "plt.legend()"
      ]
    },
    {
      "cell_type": "markdown",
      "metadata": {
        "id": "vjg5gZIIizaU"
      },
      "source": [
        "## Missing Data\n",
        "\n",
        "Desafortunadamente, los datos no siempre están limpios o completos, lo que nos obliga a lidiar datos faltantes. Aquí ilustramos varios enfoques para introducir valores perdidos. Comenzamos generando un conjunto de datos con valores perdidos.\n"
      ]
    },
    {
      "cell_type": "code",
      "execution_count": null,
      "metadata": {
        "id": "7JxNxjzSizaU"
      },
      "outputs": [],
      "source": [
        "x = np.linspace(-np.pi, np.pi, 100)\n",
        "y = np.cos(x)\n",
        "y_missing = y.copy()\n",
        "y_missing[40:55] = np.nan\n"
      ]
    },
    {
      "cell_type": "markdown",
      "metadata": {
        "id": "hSGedjttizaU"
      },
      "source": [
        "Esta es solo una funcion coseno, con algunos missing (na o perdidos) en su peak."
      ]
    },
    {
      "cell_type": "code",
      "execution_count": null,
      "metadata": {
        "id": "J9a_Ruq2izaV",
        "outputId": "b3566345-2320-4e18-a5ce-a45fdbb0a163"
      },
      "outputs": [
        {
          "data": {
            "text/plain": [
              "[<matplotlib.lines.Line2D at 0x7f8589caebe0>]"
            ]
          },
          "execution_count": 32,
          "metadata": {},
          "output_type": "execute_result"
        },
        {
          "data": {
            "image/png": "[encoded data removed]",
            "text/plain": [
              "<Figure size 432x288 with 1 Axes>"
            ]
          },
          "metadata": {
            "needs_background": "light"
          },
          "output_type": "display_data"
        }
      ],
      "source": [
        "# graficamnte\n",
        "\n",
        "plt.plot(x, y, '*') # los valores reales en azul con *\n",
        "plt.plot(x, y_missing) # los valores con el missing en linea naranja"
      ]
    },
    {
      "cell_type": "markdown",
      "metadata": {
        "id": "7yaYoZS5izaV"
      },
      "source": [
        "\n",
        "Quizás la estrategia más común es simplemente mantener el último valor 'bueno' conocido y usarlo para completar los puntos de datos faltantes. Este enfoque no puede lidiar con los valores faltantes al comienzo del conjunto de datos. \n"
      ]
    },
    {
      "cell_type": "code",
      "execution_count": null,
      "metadata": {
        "id": "uA0G-5tBizaV"
      },
      "outputs": [],
      "source": [
        "def ffill(y):\n",
        "    y0 = y.copy()\n",
        "    N = len(y0)\n",
        "    \n",
        "    current = None\n",
        "    for i in range(1, N):\n",
        "        if np.isnan(y0[i]):\n",
        "            y0[i] = current\n",
        "        else:\n",
        "            current = y0[i]\n",
        "    \n",
        "    return y0"
      ]
    },
    {
      "cell_type": "markdown",
      "metadata": {
        "id": "gcG1oS4NizaV"
      },
      "source": [
        "\n",
        "Naturalmente, el enfoque opuesto también es común cuando usamos el siguiente valor bueno. De esta manera podemos manejar fácilmente los valores perdidos iniciales, pero no podemos hacer nada con los valores perdidos al final de la serie de tiempo.\n",
        "\n"
      ]
    },
    {
      "cell_type": "code",
      "execution_count": null,
      "metadata": {
        "id": "Dqc1AKEcizaV"
      },
      "outputs": [],
      "source": [
        "\n",
        "def bfill(y):\n",
        "    y0 = y.copy()\n",
        "    N = len(y0)\n",
        "    \n",
        "    current = None\n",
        "    for i in range(N-1, 0, -1):\n",
        "        if np.isnan(y0[i]):\n",
        "            y0[i] = current\n",
        "        else:\n",
        "            current = y0[i]\n",
        "    \n",
        "    return y0"
      ]
    },
    {
      "cell_type": "markdown",
      "metadata": {
        "id": "Sn13d_ZpizaV"
      },
      "source": [
        "\n",
        "Back-fill y Forward-fill son enfoques simples pero poderosos para lidiar con los datos faltantes. Sin embargo, a menudo queremos tener más cuidado con el valor que atribuimos. Un enfoque común es interpolar entre el valor anterior y el siguiente y conectarlos con una línea recta.\n",
        "\n"
      ]
    },
    {
      "cell_type": "code",
      "execution_count": null,
      "metadata": {
        "id": "o4vd8mwXizaV"
      },
      "outputs": [],
      "source": [
        "def interpolate(y):\n",
        "    y0 = y.copy()\n",
        "    N = len(y0)\n",
        "    \n",
        "    pos = 0\n",
        "    while pos < N:\n",
        "        if np.isnan(y0[pos]):\n",
        "            count = 0\n",
        "            \n",
        "            while np.isnan(y0[pos+count]):\n",
        "                count += 1\n",
        "            \n",
        "            current = y0[pos-1]\n",
        "            future = y0[pos+count]\n",
        "            slope = (future-current)/count\n",
        "            \n",
        "            y0[pos:pos+count] = current + np.arange(1, count+1)*slope\n",
        "            \n",
        "            pos += count\n",
        "        else:\n",
        "            pos += 1\n",
        "            \n",
        "    return y0"
      ]
    },
    {
      "cell_type": "markdown",
      "metadata": {
        "id": "Gm5Tx4Q3izaV"
      },
      "source": [
        "\n",
        "La imputación de datos (el cálculo de los valores perdidos esperados) es un gran subcampo de estadísticas con una amplia gama de técnicas y enfoques. "
      ]
    },
    {
      "cell_type": "code",
      "execution_count": null,
      "metadata": {
        "id": "aH_ri6BIizaV"
      },
      "outputs": [],
      "source": [
        "y_bfill = bfill(y_missing)\n",
        "y_ffill = ffill(y_missing)\n",
        "y_inter = interpolate(y_missing)\n"
      ]
    },
    {
      "cell_type": "markdown",
      "metadata": {
        "id": "IUsF8npnizaW"
      },
      "source": [
        "Y graficamos para ver las diferencias."
      ]
    },
    {
      "cell_type": "code",
      "execution_count": null,
      "metadata": {
        "id": "uWtn8BnFizaW",
        "outputId": "fc312146-27fb-46e5-c9e7-e9cecce176f8"
      },
      "outputs": [
        {
          "data": {
            "text/plain": [
              "<matplotlib.legend.Legend at 0x7f85590a81f0>"
            ]
          },
          "execution_count": 37,
          "metadata": {},
          "output_type": "execute_result"
        },
        {
          "data": {
            "image/png": "[encoded data removed]",
            "text/plain": [
              "<Figure size 432x288 with 1 Axes>"
            ]
          },
          "metadata": {
            "needs_background": "light"
          },
          "output_type": "display_data"
        }
      ],
      "source": [
        "plt.plot(x, y_bfill, label='back fill')\n",
        "plt.plot(x, y_ffill, label='forward fill')\n",
        "plt.plot(x, y_inter, label='interpolate')\n",
        "plt.plot(x, y_missing, label='Data')\n",
        "plt.legend()"
      ]
    },
    {
      "cell_type": "markdown",
      "metadata": {
        "id": "unEmOJJWizaW"
      },
      "source": [
        "## Resampling\n",
        "\n",
        "En muchos casos, también necesitamos cambiar la frecuencia a la que estamos operando. Por ejemplo, nuestro conjunto de datos DJIA tiene valores al final del día, pero podríamos estar interesados en puntos de datos semanales o mensuales. El remuestreo es una serie de técnicas diseñadas para lidiar con esta situación y es similar en espíritu a las técnicas de ventanas que vimos anteriormente. La principal diferencia es que en lugar de simplemente mover la ventana en un paso fijo, cada ventana corresponde a nuestro período de interés.\n"
      ]
    },
    {
      "cell_type": "code",
      "execution_count": null,
      "metadata": {
        "id": "5d7CAYxUizaW"
      },
      "outputs": [],
      "source": [
        "mapping = DJIA['DATE'].dt.year\n",
        "values = DJIA['DJIA'].values"
      ]
    },
    {
      "cell_type": "markdown",
      "metadata": {
        "id": "17t-kHeVizaW"
      },
      "source": [
        "\n",
        "En el caso más simple, simplemente calculamos cuál es la ventana correcta para cada punto de datos y la agregamos en consecuencia."
      ]
    },
    {
      "cell_type": "code",
      "execution_count": null,
      "metadata": {
        "id": "JsjWbWnCizaW"
      },
      "outputs": [],
      "source": [
        "def groupBy(values, mapping, func = None):\n",
        "    agg = {}\n",
        "    pos = {}\n",
        "    \n",
        "    for i in range(values.shape[0]):\n",
        "        key = mapping.iloc[i]\n",
        "        \n",
        "        if key not in agg:\n",
        "            agg[key] = []\n",
        "        \n",
        "        pos[key] = i\n",
        "        \n",
        "        if not np.isnan(values[i]):\n",
        "            agg[key].append(values[i])\n",
        "        \n",
        "    order = sorted(agg.keys())\n",
        "    \n",
        "    if func is not None:\n",
        "        for key in agg:\n",
        "            agg[key] = func(np.array(agg[key]).astype('float'))\n",
        "            \n",
        "    return agg, pos\n"
      ]
    },
    {
      "cell_type": "markdown",
      "metadata": {
        "id": "iu-p-Z8YizaW"
      },
      "source": [
        "Naturalmente, esta función groupBy es útil no solo para remuestrear sino también para una amplia gama de análisis estadísticos. Además de un mapeo, también debemos especificar qué función de agregación queremos usar. ¿Nos interesa el valor medio? ¿el maximo? ¿Desviación Estándar?"
      ]
    },
    {
      "cell_type": "code",
      "execution_count": null,
      "metadata": {
        "id": "A_rRH2TrizaX"
      },
      "outputs": [],
      "source": [
        "agg, pos = groupBy(values, mapping, np.mean)"
      ]
    },
    {
      "cell_type": "markdown",
      "metadata": {
        "id": "_k9SfetlizaX"
      },
      "source": [
        "Aca simplemente calculamos la media por año"
      ]
    },
    {
      "cell_type": "code",
      "execution_count": null,
      "metadata": {
        "id": "dI_OCjlwizaX",
        "outputId": "1eee6ea8-74a6-4a06-8324-b5495535ed6c"
      },
      "outputs": [
        {
          "data": {
            "text/plain": [
              "{2009: 10232.334385964914,\n",
              " 2010: 10668.589087301589,\n",
              " 2011: 11957.570238095239,\n",
              " 2012: 12965.28744,\n",
              " 2013: 15009.523492063492,\n",
              " 2014: 16777.690912698414,\n",
              " 2015: 17587.029166666664,\n",
              " 2016: 17927.107341269842,\n",
              " 2017: 21750.20374501992,\n",
              " 2018: 25046.85734939759,\n",
              " 2019: 26000.832040816327}"
            ]
          },
          "execution_count": 43,
          "metadata": {},
          "output_type": "execute_result"
        }
      ],
      "source": [
        "agg"
      ]
    },
    {
      "cell_type": "markdown",
      "metadata": {
        "id": "rZvK_UqBizaX"
      },
      "source": [
        "Como nuestra función groupBy también devuelve las posiciones de índice de la última vez que se vio cada bin, podemos comparar fácilmente los datos originales con los muestreados nuevamente."
      ]
    },
    {
      "cell_type": "code",
      "execution_count": null,
      "metadata": {
        "id": "is7OBFQgizaX",
        "outputId": "b44153dd-4d7e-4ad8-b7db-14bb271cd37b"
      },
      "outputs": [
        {
          "data": {
            "text/plain": [
              "Text(0.5, 0, 'Año')"
            ]
          },
          "execution_count": 45,
          "metadata": {},
          "output_type": "execute_result"
        },
        {
          "data": {
            "image/png": "[encoded data removed]",
            "text/plain": [
              "<Figure size 432x288 with 1 Axes>"
            ]
          },
          "metadata": {
            "needs_background": "light"
          },
          "output_type": "display_data"
        }
      ],
      "source": [
        "aggregated = []\n",
        "\n",
        "for key in pos:\n",
        "    aggregated.append([pos[key], agg[key]])\n",
        "\n",
        "aggregated = np.array(aggregated)\n",
        "aggregated\n",
        "plt.plot(DJIA['DATE'], DJIA['DJIA'])\n",
        "ax = plt.gca()\n",
        "ax.plot(DJIA.set_index('DATE').index[aggregated.T[0].astype('int')], aggregated.T[1])\n",
        "ax.plot(DJIA.set_index('DATE').index[aggregated.T[0].astype('int')], aggregated.T[1], 'ro', markersize=10,)\n",
        "ax.set_ylabel('DJIA')\n",
        "ax.set_xlabel('Año')"
      ]
    },
    {
      "cell_type": "markdown",
      "metadata": {
        "id": "Bc1aHSJbizaX"
      },
      "source": [
        "## Jackknife estimators\n",
        "\n",
        "Finalmente, en muchos casos queremos estimar cantidades estadísticas de series de tiempo. Un ejemplo obvio podría ser estimar la media móvil de una serie sin tendencia para verificar si de hecho está lo suficientemente cerca de cero para ser considerada estacionaria.\n",
        "\n",
        "El estimador JackKnife nos permite obtener no solo el valor esperado en cuestión, sino también una medida de su varianza. Esto se logra mediante el uso de un enfoque de omisión para calcular N estimaciones de nuestra métrica. A partir de esta población de estimación, podemos obtener los promedios como la mejor estimación posible y la desviación estándar como una medida de las barras de error involucradas.\n"
      ]
    },
    {
      "cell_type": "code",
      "execution_count": null,
      "metadata": {
        "id": "1LVHjpa-izaX"
      },
      "outputs": [],
      "source": [
        "def jackknife(x, func, variance = False):\n",
        "    N = len(x)\n",
        "    pos = np.arange(N)\n",
        "    values = [func(x[pos != i]) for i in pos]\n",
        "    jack = np.sum(values)/N\n",
        "    \n",
        "    if variance:\n",
        "        values = [np.power(func(x[pos != i]) - jack, 2.0) for i in pos]\n",
        "        var = (N-1)/N * np.sum(values)\n",
        "        return jack, var\n",
        "    else:\n",
        "        return jack"
      ]
    },
    {
      "cell_type": "code",
      "execution_count": null,
      "metadata": {
        "id": "y0DkAHXpizaX",
        "outputId": "aa6ba6dc-2886-4f90-fe49-2a5e645b7312"
      },
      "outputs": [
        {
          "name": "stdout",
          "output_type": "stream",
          "text": [
            "2.1452051735202873\n"
          ]
        },
        {
          "data": {
            "text/plain": [
              "(2.1450561354068944, 0.016817941415184355)"
            ]
          },
          "execution_count": 48,
          "metadata": {},
          "output_type": "execute_result"
        }
      ],
      "source": [
        "x = np.random.normal(0, 2, 100)\n",
        "print(x.std())\n",
        "jackknife(x, np.std, True)"
      ]
    },
    {
      "cell_type": "markdown",
      "metadata": {
        "id": "h4sPBcOaizaY"
      },
      "source": [
        "\n",
        "Con jackknife obtenemos no solo una estimación del valor sino también una medida del error"
      ]
    },
    {
      "cell_type": "markdown",
      "metadata": {
        "id": "SRWNnDXIizaY"
      },
      "source": [
        "## Bootstrapping\n",
        "\n",
        "Otra técnica común para estimar propiedades estadísticas se conoce como bootstrapping y está estrechamente relacionada con Jackknife. En este enfoque, simplemente tomamos muestras (con reemplazo) de la población original para obtener una medida de cuánta variabilidad se puede esperar.\n"
      ]
    },
    {
      "cell_type": "code",
      "execution_count": null,
      "metadata": {
        "id": "_MQHtmH2izaY"
      },
      "outputs": [],
      "source": [
        "def bootstrapping(x, n_samples, func=np.mean):\n",
        "    y = x.copy()\n",
        "    N = len(y)\n",
        "    population = []\n",
        "    \n",
        "    for i in range(n_samples):\n",
        "        population.append(func(np.random.choice(y, N, replace=True)))\n",
        "        \n",
        "    return np.array(population)"
      ]
    },
    {
      "cell_type": "markdown",
      "metadata": {
        "id": "YL1yTSwLizaY"
      },
      "source": [
        "\n",
        "Podemos generar fácilmente un histograma de las muestras bostrappeadas"
      ]
    },
    {
      "cell_type": "code",
      "execution_count": null,
      "metadata": {
        "id": "5cABiY-cizaY"
      },
      "outputs": [],
      "source": [
        "def histogram(values, n_bins=100):\n",
        "    xmax = values.max()\n",
        "    xmin = values.min()\n",
        "    delta  = (xmax-xmin)/n_bins\n",
        "    \n",
        "    counts = np.zeros(n_bins+1, dtype='int')\n",
        "    \n",
        "    for value in values:\n",
        "        val_bin = np.around((value-xmin)/delta).astype('int')\n",
        "        counts[val_bin] += 1.0\n",
        "    \n",
        "    bins = xmin+delta*np.arange(n_bins+1)\n",
        "    \n",
        "    return bins, counts/values.shape[0]\n"
      ]
    },
    {
      "cell_type": "code",
      "execution_count": null,
      "metadata": {
        "id": "L_2iSeofizaY"
      },
      "outputs": [],
      "source": [
        "  \n",
        "x = np.random.normal(0, 2, size=100)\n"
      ]
    },
    {
      "cell_type": "code",
      "execution_count": null,
      "metadata": {
        "id": "PObpxjcNizaY"
      },
      "outputs": [],
      "source": [
        "\n",
        "boot = bootstrapping(x, 1000)\n"
      ]
    },
    {
      "cell_type": "code",
      "execution_count": null,
      "metadata": {
        "id": "K3-qtceaizaY",
        "outputId": "5f539a0e-66fc-41aa-8039-2c39ccee690f"
      },
      "outputs": [
        {
          "data": {
            "text/plain": [
              "-0.22862039068812348"
            ]
          },
          "execution_count": 57,
          "metadata": {},
          "output_type": "execute_result"
        }
      ],
      "source": [
        "\n",
        "x.mean()\n"
      ]
    },
    {
      "cell_type": "code",
      "execution_count": null,
      "metadata": {
        "id": "fSlEoEejizaZ",
        "outputId": "adb21599-6848-46e6-9d8d-e498c0bea57d"
      },
      "outputs": [
        {
          "data": {
            "text/plain": [
              "1.7922436343752959"
            ]
          },
          "execution_count": 58,
          "metadata": {},
          "output_type": "execute_result"
        }
      ],
      "source": [
        "x.std()\n"
      ]
    },
    {
      "cell_type": "code",
      "execution_count": null,
      "metadata": {
        "id": "X0PZFDExizaZ"
      },
      "outputs": [],
      "source": [
        "bins, counts = histogram(boot)\n"
      ]
    },
    {
      "cell_type": "code",
      "execution_count": null,
      "metadata": {
        "id": "Zry3CtYQizaZ",
        "outputId": "f326319a-2664-491d-a397-dd0f0faf6099"
      },
      "outputs": [
        {
          "data": {
            "text/plain": [
              "<matplotlib.collections.LineCollection at 0x7fa52adc44c0>"
            ]
          },
          "execution_count": 60,
          "metadata": {},
          "output_type": "execute_result"
        },
        {
          "data": {
            "image/png": "[encoded data removed]",
            "text/plain": [
              "<Figure size 432x288 with 1 Axes>"
            ]
          },
          "metadata": {
            "needs_background": "light"
          },
          "output_type": "display_data"
        }
      ],
      "source": [
        "plt.plot(bins, counts)\n",
        "plt.vlines(x=boot.mean(), ymin=0, ymax=counts.max(), label='mean', color='g')\n",
        "plt.vlines(x=boot.mean()+boot.std(), ymin=0, ymax=counts.max(), label='std', linestyles='--', color='r')\n",
        "plt.vlines(x=boot.mean()-boot.std(), ymin=0, ymax=counts.max(), label='std', linestyles='--', color='r')\n"
      ]
    },
    {
      "cell_type": "markdown",
      "metadata": {
        "id": "v__9nGvtizaZ"
      },
      "source": [
        "# Actividad Bloque 1: Bajando y formateando datos del Banco Mundial\n",
        "\n",
        "1. Siga este ejemplo practico de importar datos desde la API del Banco Mundial y preparar la base para su análisis de series de tiempo.\n",
        "2. Importe usted la serie de GDP total Y Percapita para otro país serie desde la API del Banco mundial, muestre sus principales características y realice un grafico. \n",
        "3. Obtenga las primeras diferencias y compare, ¿pareciera haber tendencias?"
      ]
    },
    {
      "cell_type": "code",
      "execution_count": 25,
      "metadata": {
        "colab": {
          "base_uri": "https://localhost:8080/",
          "height": 419
        },
        "id": "0SZz6xu0izaZ",
        "outputId": "27e49e33-4c63-41e5-995a-42e729c1001b"
      },
      "outputs": [
        {
          "output_type": "execute_result",
          "data": {
            "text/html": [
              "<div>\n",
              "<style scoped>\n",
              "    .dataframe tbody tr th:only-of-type {\n",
              "        vertical-align: middle;\n",
              "    }\n",
              "\n",
              "    .dataframe tbody tr th {\n",
              "        vertical-align: top;\n",
              "    }\n",
              "\n",
              "    .dataframe thead th {\n",
              "        text-align: right;\n",
              "    }\n",
              "</style>\n",
              "<table border=\"1\" class=\"dataframe\">\n",
              "  <thead>\n",
              "    <tr style=\"text-align: right;\">\n",
              "      <th></th>\n",
              "      <th>id</th>\n",
              "      <th>name</th>\n",
              "      <th>unit</th>\n",
              "      <th>source</th>\n",
              "      <th>sourceNote</th>\n",
              "      <th>sourceOrganization</th>\n",
              "      <th>topics</th>\n",
              "    </tr>\n",
              "  </thead>\n",
              "  <tbody>\n",
              "    <tr>\n",
              "      <th>711</th>\n",
              "      <td>5.51.01.10.gdp</td>\n",
              "      <td>Per capita GDP growth</td>\n",
              "      <td></td>\n",
              "      <td>Statistical Capacity Indicators</td>\n",
              "      <td>GDP per capita is the sum of gross value added...</td>\n",
              "      <td>b'World Development Indicator (WDI) databank. ...</td>\n",
              "      <td></td>\n",
              "    </tr>\n",
              "    <tr>\n",
              "      <th>713</th>\n",
              "      <td>6.0.GDP_current</td>\n",
              "      <td>GDP (current $)</td>\n",
              "      <td></td>\n",
              "      <td>LAC Equity Lab</td>\n",
              "      <td>GDP is the sum of gross value added by all res...</td>\n",
              "      <td>b'World Development Indicators (World Bank)'</td>\n",
              "      <td>Economy &amp; Growth</td>\n",
              "    </tr>\n",
              "    <tr>\n",
              "      <th>714</th>\n",
              "      <td>6.0.GDP_growth</td>\n",
              "      <td>GDP growth (annual %)</td>\n",
              "      <td></td>\n",
              "      <td>LAC Equity Lab</td>\n",
              "      <td>Annual percentage growth rate of GDP at market...</td>\n",
              "      <td>b'World Development Indicators (World Bank)'</td>\n",
              "      <td>Economy &amp; Growth</td>\n",
              "    </tr>\n",
              "    <tr>\n",
              "      <th>715</th>\n",
              "      <td>6.0.GDP_usd</td>\n",
              "      <td>GDP (constant 2005 $)</td>\n",
              "      <td></td>\n",
              "      <td>LAC Equity Lab</td>\n",
              "      <td>GDP is the sum of gross value added by all res...</td>\n",
              "      <td>b'World Development Indicators (World Bank)'</td>\n",
              "      <td>Economy &amp; Growth</td>\n",
              "    </tr>\n",
              "    <tr>\n",
              "      <th>716</th>\n",
              "      <td>6.0.GDPpc_constant</td>\n",
              "      <td>GDP per capita, PPP (constant 2011 internation...</td>\n",
              "      <td></td>\n",
              "      <td>LAC Equity Lab</td>\n",
              "      <td>GDP per capita based on purchasing power parit...</td>\n",
              "      <td>b'World Development Indicators (World Bank)'</td>\n",
              "      <td>Economy &amp; Growth</td>\n",
              "    </tr>\n",
              "    <tr>\n",
              "      <th>...</th>\n",
              "      <td>...</td>\n",
              "      <td>...</td>\n",
              "      <td>...</td>\n",
              "      <td>...</td>\n",
              "      <td>...</td>\n",
              "      <td>...</td>\n",
              "      <td>...</td>\n",
              "    </tr>\n",
              "    <tr>\n",
              "      <th>16297</th>\n",
              "      <td>UIS.XUNIT.GDPCAP.23.FSGOV</td>\n",
              "      <td>Initial government funding per secondary stude...</td>\n",
              "      <td></td>\n",
              "      <td>Education Statistics</td>\n",
              "      <td>Total general (local, regional and central, cu...</td>\n",
              "      <td>b'UNESCO Institute for Statistics'</td>\n",
              "      <td></td>\n",
              "    </tr>\n",
              "    <tr>\n",
              "      <th>16298</th>\n",
              "      <td>UIS.XUNIT.GDPCAP.23.FSHH</td>\n",
              "      <td>Initial household funding per secondary studen...</td>\n",
              "      <td></td>\n",
              "      <td>Education Statistics</td>\n",
              "      <td>Total payments of households (pupils, students...</td>\n",
              "      <td>b'UNESCO Institute for Statistics'</td>\n",
              "      <td></td>\n",
              "    </tr>\n",
              "    <tr>\n",
              "      <th>16299</th>\n",
              "      <td>UIS.XUNIT.GDPCAP.3.FSGOV</td>\n",
              "      <td>Initial government funding per upper secondary...</td>\n",
              "      <td></td>\n",
              "      <td>Education Statistics</td>\n",
              "      <td>Total general (local, regional and central, cu...</td>\n",
              "      <td>b'UNESCO Institute for Statistics'</td>\n",
              "      <td></td>\n",
              "    </tr>\n",
              "    <tr>\n",
              "      <th>16300</th>\n",
              "      <td>UIS.XUNIT.GDPCAP.5T8.FSGOV</td>\n",
              "      <td>Initial government funding per tertiary studen...</td>\n",
              "      <td></td>\n",
              "      <td>Education Statistics</td>\n",
              "      <td>Total general (local, regional and central, cu...</td>\n",
              "      <td>b'UNESCO Institute for Statistics'</td>\n",
              "      <td></td>\n",
              "    </tr>\n",
              "    <tr>\n",
              "      <th>16301</th>\n",
              "      <td>UIS.XUNIT.GDPCAP.5T8.FSHH</td>\n",
              "      <td>Initial household funding per tertiary student...</td>\n",
              "      <td></td>\n",
              "      <td>Education Statistics</td>\n",
              "      <td>Total payments of households (pupils, students...</td>\n",
              "      <td>b'UNESCO Institute for Statistics'</td>\n",
              "      <td></td>\n",
              "    </tr>\n",
              "  </tbody>\n",
              "</table>\n",
              "<p>542 rows × 7 columns</p>\n",
              "</div>"
            ],
            "text/plain": [
              "                               id  ...            topics\n",
              "711                5.51.01.10.gdp  ...                  \n",
              "713               6.0.GDP_current  ...  Economy & Growth\n",
              "714                6.0.GDP_growth  ...  Economy & Growth\n",
              "715                   6.0.GDP_usd  ...  Economy & Growth\n",
              "716            6.0.GDPpc_constant  ...  Economy & Growth\n",
              "...                           ...  ...               ...\n",
              "16297   UIS.XUNIT.GDPCAP.23.FSGOV  ...                  \n",
              "16298    UIS.XUNIT.GDPCAP.23.FSHH  ...                  \n",
              "16299    UIS.XUNIT.GDPCAP.3.FSGOV  ...                  \n",
              "16300  UIS.XUNIT.GDPCAP.5T8.FSGOV  ...                  \n",
              "16301   UIS.XUNIT.GDPCAP.5T8.FSHH  ...                  \n",
              "\n",
              "[542 rows x 7 columns]"
            ]
          },
          "metadata": {},
          "execution_count": 25
        }
      ],
      "source": [
        "#pandas remote data access support for calls to the World Bank Indicators API\n",
        "\n",
        "from pandas_datareader import data, wb # para instalar: conda install pandas-datareader  o  pip installpandas-datareader\n",
        "\n",
        "#Revisemos que indicadores hay disponibles. En este caso revisare de PIB (GDP en ingés), pero se pueden explorar muchas más opciones.\n",
        "\n",
        "wb.search('gdp')\n"
      ]
    },
    {
      "cell_type": "code",
      "execution_count": 27,
      "metadata": {
        "colab": {
          "base_uri": "https://localhost:8080/",
          "height": 204
        },
        "id": "hFe00pl-izaZ",
        "outputId": "80b96dfd-3182-4e90-fcf0-f86344914323"
      },
      "outputs": [
        {
          "output_type": "execute_result",
          "data": {
            "text/html": [
              "<div>\n",
              "<style scoped>\n",
              "    .dataframe tbody tr th:only-of-type {\n",
              "        vertical-align: middle;\n",
              "    }\n",
              "\n",
              "    .dataframe tbody tr th {\n",
              "        vertical-align: top;\n",
              "    }\n",
              "\n",
              "    .dataframe thead th {\n",
              "        text-align: right;\n",
              "    }\n",
              "</style>\n",
              "<table border=\"1\" class=\"dataframe\">\n",
              "  <thead>\n",
              "    <tr style=\"text-align: right;\">\n",
              "      <th></th>\n",
              "      <th>iso3c</th>\n",
              "      <th>iso2c</th>\n",
              "      <th>name</th>\n",
              "      <th>region</th>\n",
              "      <th>adminregion</th>\n",
              "      <th>incomeLevel</th>\n",
              "      <th>lendingType</th>\n",
              "      <th>capitalCity</th>\n",
              "      <th>longitude</th>\n",
              "      <th>latitude</th>\n",
              "    </tr>\n",
              "  </thead>\n",
              "  <tbody>\n",
              "    <tr>\n",
              "      <th>0</th>\n",
              "      <td>ABW</td>\n",
              "      <td>AW</td>\n",
              "      <td>Aruba</td>\n",
              "      <td>Latin America &amp; Caribbean</td>\n",
              "      <td></td>\n",
              "      <td>High income</td>\n",
              "      <td>Not classified</td>\n",
              "      <td>Oranjestad</td>\n",
              "      <td>-70.0167</td>\n",
              "      <td>12.5167</td>\n",
              "    </tr>\n",
              "    <tr>\n",
              "      <th>1</th>\n",
              "      <td>AFE</td>\n",
              "      <td>ZH</td>\n",
              "      <td>Africa Eastern and Southern</td>\n",
              "      <td>Aggregates</td>\n",
              "      <td></td>\n",
              "      <td>Aggregates</td>\n",
              "      <td>Aggregates</td>\n",
              "      <td></td>\n",
              "      <td>NaN</td>\n",
              "      <td>NaN</td>\n",
              "    </tr>\n",
              "    <tr>\n",
              "      <th>2</th>\n",
              "      <td>AFG</td>\n",
              "      <td>AF</td>\n",
              "      <td>Afghanistan</td>\n",
              "      <td>South Asia</td>\n",
              "      <td>South Asia</td>\n",
              "      <td>Low income</td>\n",
              "      <td>IDA</td>\n",
              "      <td>Kabul</td>\n",
              "      <td>69.1761</td>\n",
              "      <td>34.5228</td>\n",
              "    </tr>\n",
              "    <tr>\n",
              "      <th>3</th>\n",
              "      <td>AFR</td>\n",
              "      <td>A9</td>\n",
              "      <td>Africa</td>\n",
              "      <td>Aggregates</td>\n",
              "      <td></td>\n",
              "      <td>Aggregates</td>\n",
              "      <td>Aggregates</td>\n",
              "      <td></td>\n",
              "      <td>NaN</td>\n",
              "      <td>NaN</td>\n",
              "    </tr>\n",
              "    <tr>\n",
              "      <th>4</th>\n",
              "      <td>AFW</td>\n",
              "      <td>ZI</td>\n",
              "      <td>Africa Western and Central</td>\n",
              "      <td>Aggregates</td>\n",
              "      <td></td>\n",
              "      <td>Aggregates</td>\n",
              "      <td>Aggregates</td>\n",
              "      <td></td>\n",
              "      <td>NaN</td>\n",
              "      <td>NaN</td>\n",
              "    </tr>\n",
              "  </tbody>\n",
              "</table>\n",
              "</div>"
            ],
            "text/plain": [
              "  iso3c iso2c                         name  ... capitalCity longitude latitude\n",
              "0   ABW    AW                        Aruba  ...  Oranjestad  -70.0167  12.5167\n",
              "1   AFE    ZH  Africa Eastern and Southern  ...                   NaN      NaN\n",
              "2   AFG    AF                  Afghanistan  ...       Kabul   69.1761  34.5228\n",
              "3   AFR    A9                       Africa  ...                   NaN      NaN\n",
              "4   AFW    ZI   Africa Western and Central  ...                   NaN      NaN\n",
              "\n",
              "[5 rows x 10 columns]"
            ]
          },
          "metadata": {},
          "execution_count": 27
        }
      ],
      "source": [
        "# Obtengamos la lista de paises disponibles\n",
        "countries=wb.get_countries()\n",
        "\n",
        "#Preview primeras filas lista de paises\n",
        "countries[:5]"
      ]
    },
    {
      "cell_type": "code",
      "execution_count": 29,
      "metadata": {
        "colab": {
          "base_uri": "https://localhost:8080/",
          "height": 80
        },
        "id": "Glov_1efizaZ",
        "outputId": "d263ac5a-f122-42ee-eaba-a62e62823db7"
      },
      "outputs": [
        {
          "output_type": "execute_result",
          "data": {
            "text/html": [
              "<div>\n",
              "<style scoped>\n",
              "    .dataframe tbody tr th:only-of-type {\n",
              "        vertical-align: middle;\n",
              "    }\n",
              "\n",
              "    .dataframe tbody tr th {\n",
              "        vertical-align: top;\n",
              "    }\n",
              "\n",
              "    .dataframe thead th {\n",
              "        text-align: right;\n",
              "    }\n",
              "</style>\n",
              "<table border=\"1\" class=\"dataframe\">\n",
              "  <thead>\n",
              "    <tr style=\"text-align: right;\">\n",
              "      <th></th>\n",
              "      <th>iso3c</th>\n",
              "      <th>iso2c</th>\n",
              "      <th>name</th>\n",
              "      <th>region</th>\n",
              "      <th>adminregion</th>\n",
              "      <th>incomeLevel</th>\n",
              "      <th>lendingType</th>\n",
              "      <th>capitalCity</th>\n",
              "      <th>longitude</th>\n",
              "      <th>latitude</th>\n",
              "    </tr>\n",
              "  </thead>\n",
              "  <tbody>\n",
              "    <tr>\n",
              "      <th>10</th>\n",
              "      <td>ARG</td>\n",
              "      <td>AR</td>\n",
              "      <td>Argentina</td>\n",
              "      <td>Latin America &amp; Caribbean</td>\n",
              "      <td>Latin America &amp; Caribbean (excluding high income)</td>\n",
              "      <td>Upper middle income</td>\n",
              "      <td>IBRD</td>\n",
              "      <td>Buenos Aires</td>\n",
              "      <td>-58.4173</td>\n",
              "      <td>-34.6118</td>\n",
              "    </tr>\n",
              "  </tbody>\n",
              "</table>\n",
              "</div>"
            ],
            "text/plain": [
              "   iso3c iso2c       name  ...   capitalCity longitude latitude\n",
              "10   ARG    AR  Argentina  ...  Buenos Aires  -58.4173 -34.6118\n",
              "\n",
              "[1 rows x 10 columns]"
            ]
          },
          "metadata": {},
          "execution_count": 29
        }
      ],
      "source": [
        "#sabemos que queremos Chile, asi que busquemos su info\n",
        "\n",
        "countries[ countries['name'] == 'Argentina' ]"
      ]
    },
    {
      "cell_type": "code",
      "execution_count": 30,
      "metadata": {
        "colab": {
          "base_uri": "https://localhost:8080/"
        },
        "id": "EJbXVSzvizaZ",
        "outputId": "ec789e1a-a492-43a3-f1ae-c92b544b94de"
      },
      "outputs": [
        {
          "output_type": "stream",
          "name": "stdout",
          "text": [
            "<class 'pandas.core.frame.DataFrame'>\n",
            "MultiIndex: 41 entries, ('Argentina', '2020') to ('Argentina', '1980')\n",
            "Data columns (total 1 columns):\n",
            " #   Column          Non-Null Count  Dtype  \n",
            "---  ------          --------------  -----  \n",
            " 0   NY.GDP.PCAP.KD  41 non-null     float64\n",
            "dtypes: float64(1)\n",
            "memory usage: 2.2+ KB\n"
          ]
        }
      ],
      "source": [
        "# Descarguemos la data desde la API del banco muncial a un dataframe\n",
        "\n",
        "df_GPDpc_Argentina = wb.download(\n",
        "                    #Use the indicator attribute to identify which indicator or indicators to download\n",
        "                    indicator='NY.GDP.PCAP.KD',\n",
        "                    #Use the country attribute to identify the countries you want data for\n",
        "                    country=['AR'],\n",
        "                    #Identify the first year for which you want the data, as an integer or a string\n",
        "                    start='1980',\n",
        "                    #Identify the last year for which you want the data, as an integer or a string\n",
        "                    end=2020\n",
        "                )\n",
        "\n",
        "df_GPDpc_Argentina.info()\n"
      ]
    },
    {
      "cell_type": "markdown",
      "metadata": {
        "id": "NhbaZKbjizaa"
      },
      "source": [
        "Observar que este es un data frame con dos índices: pais  y  año. Para mayor referencia coo tratar este tipo de datos ver en [https://pandas.pydata.org/pandas-docs/stable/user_guide/advanced.html](https://pandas.pydata.org/pandas-docs/stable/user_guide/advanced.html)"
      ]
    },
    {
      "cell_type": "code",
      "execution_count": 31,
      "metadata": {
        "colab": {
          "base_uri": "https://localhost:8080/",
          "height": 235
        },
        "id": "Ta5BDfH7izaa",
        "outputId": "42de94de-b39c-4684-8ed5-3c39bd180fcc"
      },
      "outputs": [
        {
          "output_type": "execute_result",
          "data": {
            "text/html": [
              "<div>\n",
              "<style scoped>\n",
              "    .dataframe tbody tr th:only-of-type {\n",
              "        vertical-align: middle;\n",
              "    }\n",
              "\n",
              "    .dataframe tbody tr th {\n",
              "        vertical-align: top;\n",
              "    }\n",
              "\n",
              "    .dataframe thead th {\n",
              "        text-align: right;\n",
              "    }\n",
              "</style>\n",
              "<table border=\"1\" class=\"dataframe\">\n",
              "  <thead>\n",
              "    <tr style=\"text-align: right;\">\n",
              "      <th></th>\n",
              "      <th></th>\n",
              "      <th>NY.GDP.PCAP.KD</th>\n",
              "    </tr>\n",
              "    <tr>\n",
              "      <th>country</th>\n",
              "      <th>year</th>\n",
              "      <th></th>\n",
              "    </tr>\n",
              "  </thead>\n",
              "  <tbody>\n",
              "    <tr>\n",
              "      <th rowspan=\"5\" valign=\"top\">Argentina</th>\n",
              "      <th>2020</th>\n",
              "      <td>11342.021824</td>\n",
              "    </tr>\n",
              "    <tr>\n",
              "      <th>2019</th>\n",
              "      <td>12711.705187</td>\n",
              "    </tr>\n",
              "    <tr>\n",
              "      <th>2018</th>\n",
              "      <td>13112.401134</td>\n",
              "    </tr>\n",
              "    <tr>\n",
              "      <th>2017</th>\n",
              "      <td>13595.037355</td>\n",
              "    </tr>\n",
              "    <tr>\n",
              "      <th>2016</th>\n",
              "      <td>13360.211835</td>\n",
              "    </tr>\n",
              "  </tbody>\n",
              "</table>\n",
              "</div>"
            ],
            "text/plain": [
              "                NY.GDP.PCAP.KD\n",
              "country   year                \n",
              "Argentina 2020    11342.021824\n",
              "          2019    12711.705187\n",
              "          2018    13112.401134\n",
              "          2017    13595.037355\n",
              "          2016    13360.211835"
            ]
          },
          "metadata": {},
          "execution_count": 31
        }
      ],
      "source": [
        "#Veamos el data frame\n",
        "df_GPDpc_Argentina.head()"
      ]
    },
    {
      "cell_type": "markdown",
      "metadata": {
        "id": "uuxFt0nWizaa"
      },
      "source": [
        "Si quisieramos, por simplicidad quedarnos solo con el indice del año y reordenar el dataframe:"
      ]
    },
    {
      "cell_type": "code",
      "execution_count": 32,
      "metadata": {
        "colab": {
          "base_uri": "https://localhost:8080/",
          "height": 1000
        },
        "id": "i7qgfdzBizaa",
        "outputId": "97fb210f-741e-4bb7-ec08-815c303c619f"
      },
      "outputs": [
        {
          "output_type": "execute_result",
          "data": {
            "text/html": [
              "<div>\n",
              "<style scoped>\n",
              "    .dataframe tbody tr th:only-of-type {\n",
              "        vertical-align: middle;\n",
              "    }\n",
              "\n",
              "    .dataframe tbody tr th {\n",
              "        vertical-align: top;\n",
              "    }\n",
              "\n",
              "    .dataframe thead th {\n",
              "        text-align: right;\n",
              "    }\n",
              "</style>\n",
              "<table border=\"1\" class=\"dataframe\">\n",
              "  <thead>\n",
              "    <tr style=\"text-align: right;\">\n",
              "      <th></th>\n",
              "      <th>NY.GDP.PCAP.KD</th>\n",
              "    </tr>\n",
              "    <tr>\n",
              "      <th>year</th>\n",
              "      <th></th>\n",
              "    </tr>\n",
              "  </thead>\n",
              "  <tbody>\n",
              "    <tr>\n",
              "      <th>2020</th>\n",
              "      <td>11342.021824</td>\n",
              "    </tr>\n",
              "    <tr>\n",
              "      <th>2019</th>\n",
              "      <td>12711.705187</td>\n",
              "    </tr>\n",
              "    <tr>\n",
              "      <th>2018</th>\n",
              "      <td>13112.401134</td>\n",
              "    </tr>\n",
              "    <tr>\n",
              "      <th>2017</th>\n",
              "      <td>13595.037355</td>\n",
              "    </tr>\n",
              "    <tr>\n",
              "      <th>2016</th>\n",
              "      <td>13360.211835</td>\n",
              "    </tr>\n",
              "    <tr>\n",
              "      <th>2015</th>\n",
              "      <td>13789.060425</td>\n",
              "    </tr>\n",
              "    <tr>\n",
              "      <th>2014</th>\n",
              "      <td>13567.948416</td>\n",
              "    </tr>\n",
              "    <tr>\n",
              "      <th>2013</th>\n",
              "      <td>14071.508683</td>\n",
              "    </tr>\n",
              "    <tr>\n",
              "      <th>2012</th>\n",
              "      <td>13895.633707</td>\n",
              "    </tr>\n",
              "    <tr>\n",
              "      <th>2011</th>\n",
              "      <td>14200.269889</td>\n",
              "    </tr>\n",
              "    <tr>\n",
              "      <th>2010</th>\n",
              "      <td>13551.339194</td>\n",
              "    </tr>\n",
              "    <tr>\n",
              "      <th>2009</th>\n",
              "      <td>12398.283581</td>\n",
              "    </tr>\n",
              "    <tr>\n",
              "      <th>2008</th>\n",
              "      <td>13310.623684</td>\n",
              "    </tr>\n",
              "    <tr>\n",
              "      <th>2007</th>\n",
              "      <td>12919.235365</td>\n",
              "    </tr>\n",
              "    <tr>\n",
              "      <th>2006</th>\n",
              "      <td>11970.655387</td>\n",
              "    </tr>\n",
              "    <tr>\n",
              "      <th>2005</th>\n",
              "      <td>11192.179579</td>\n",
              "    </tr>\n",
              "    <tr>\n",
              "      <th>2004</th>\n",
              "      <td>10389.151274</td>\n",
              "    </tr>\n",
              "    <tr>\n",
              "      <th>2003</th>\n",
              "      <td>9629.844086</td>\n",
              "    </tr>\n",
              "    <tr>\n",
              "      <th>2002</th>\n",
              "      <td>8943.308002</td>\n",
              "    </tr>\n",
              "    <tr>\n",
              "      <th>2001</th>\n",
              "      <td>10146.106818</td>\n",
              "    </tr>\n",
              "    <tr>\n",
              "      <th>2000</th>\n",
              "      <td>10730.608217</td>\n",
              "    </tr>\n",
              "    <tr>\n",
              "      <th>1999</th>\n",
              "      <td>10935.644595</td>\n",
              "    </tr>\n",
              "    <tr>\n",
              "      <th>1998</th>\n",
              "      <td>11445.564938</td>\n",
              "    </tr>\n",
              "    <tr>\n",
              "      <th>1997</th>\n",
              "      <td>11146.721034</td>\n",
              "    </tr>\n",
              "    <tr>\n",
              "      <th>1996</th>\n",
              "      <td>10430.682493</td>\n",
              "    </tr>\n",
              "    <tr>\n",
              "      <th>1995</th>\n",
              "      <td>10003.091689</td>\n",
              "    </tr>\n",
              "    <tr>\n",
              "      <th>1994</th>\n",
              "      <td>10423.378879</td>\n",
              "    </tr>\n",
              "    <tr>\n",
              "      <th>1993</th>\n",
              "      <td>9974.004419</td>\n",
              "    </tr>\n",
              "    <tr>\n",
              "      <th>1992</th>\n",
              "      <td>9338.699517</td>\n",
              "    </tr>\n",
              "    <tr>\n",
              "      <th>1991</th>\n",
              "      <td>8769.750400</td>\n",
              "    </tr>\n",
              "    <tr>\n",
              "      <th>1990</th>\n",
              "      <td>8149.240619</td>\n",
              "    </tr>\n",
              "    <tr>\n",
              "      <th>1989</th>\n",
              "      <td>8477.672903</td>\n",
              "    </tr>\n",
              "    <tr>\n",
              "      <th>1988</th>\n",
              "      <td>9269.355790</td>\n",
              "    </tr>\n",
              "    <tr>\n",
              "      <th>1987</th>\n",
              "      <td>9517.108610</td>\n",
              "    </tr>\n",
              "    <tr>\n",
              "      <th>1986</th>\n",
              "      <td>9412.994813</td>\n",
              "    </tr>\n",
              "    <tr>\n",
              "      <th>1985</th>\n",
              "      <td>9009.001729</td>\n",
              "    </tr>\n",
              "    <tr>\n",
              "      <th>1984</th>\n",
              "      <td>9655.183649</td>\n",
              "    </tr>\n",
              "    <tr>\n",
              "      <th>1983</th>\n",
              "      <td>9660.192130</td>\n",
              "    </tr>\n",
              "    <tr>\n",
              "      <th>1982</th>\n",
              "      <td>9407.874641</td>\n",
              "    </tr>\n",
              "    <tr>\n",
              "      <th>1981</th>\n",
              "      <td>9630.115178</td>\n",
              "    </tr>\n",
              "    <tr>\n",
              "      <th>1980</th>\n",
              "      <td>10318.182985</td>\n",
              "    </tr>\n",
              "  </tbody>\n",
              "</table>\n",
              "</div>"
            ],
            "text/plain": [
              "      NY.GDP.PCAP.KD\n",
              "year                \n",
              "2020    11342.021824\n",
              "2019    12711.705187\n",
              "2018    13112.401134\n",
              "2017    13595.037355\n",
              "2016    13360.211835\n",
              "2015    13789.060425\n",
              "2014    13567.948416\n",
              "2013    14071.508683\n",
              "2012    13895.633707\n",
              "2011    14200.269889\n",
              "2010    13551.339194\n",
              "2009    12398.283581\n",
              "2008    13310.623684\n",
              "2007    12919.235365\n",
              "2006    11970.655387\n",
              "2005    11192.179579\n",
              "2004    10389.151274\n",
              "2003     9629.844086\n",
              "2002     8943.308002\n",
              "2001    10146.106818\n",
              "2000    10730.608217\n",
              "1999    10935.644595\n",
              "1998    11445.564938\n",
              "1997    11146.721034\n",
              "1996    10430.682493\n",
              "1995    10003.091689\n",
              "1994    10423.378879\n",
              "1993     9974.004419\n",
              "1992     9338.699517\n",
              "1991     8769.750400\n",
              "1990     8149.240619\n",
              "1989     8477.672903\n",
              "1988     9269.355790\n",
              "1987     9517.108610\n",
              "1986     9412.994813\n",
              "1985     9009.001729\n",
              "1984     9655.183649\n",
              "1983     9660.192130\n",
              "1982     9407.874641\n",
              "1981     9630.115178\n",
              "1980    10318.182985"
            ]
          },
          "metadata": {},
          "execution_count": 32
        }
      ],
      "source": [
        "df_GPDpc_Argentina.droplevel('country')"
      ]
    },
    {
      "cell_type": "code",
      "execution_count": 33,
      "metadata": {
        "colab": {
          "base_uri": "https://localhost:8080/",
          "height": 235
        },
        "id": "1XB7xi4Oizaa",
        "outputId": "6bc46f99-bedc-4631-ce38-83bfbb9c837e"
      },
      "outputs": [
        {
          "output_type": "execute_result",
          "data": {
            "text/html": [
              "<div>\n",
              "<style scoped>\n",
              "    .dataframe tbody tr th:only-of-type {\n",
              "        vertical-align: middle;\n",
              "    }\n",
              "\n",
              "    .dataframe tbody tr th {\n",
              "        vertical-align: top;\n",
              "    }\n",
              "\n",
              "    .dataframe thead th {\n",
              "        text-align: right;\n",
              "    }\n",
              "</style>\n",
              "<table border=\"1\" class=\"dataframe\">\n",
              "  <thead>\n",
              "    <tr style=\"text-align: right;\">\n",
              "      <th></th>\n",
              "      <th>NY.GDP.PCAP.KD</th>\n",
              "    </tr>\n",
              "    <tr>\n",
              "      <th>year</th>\n",
              "      <th></th>\n",
              "    </tr>\n",
              "  </thead>\n",
              "  <tbody>\n",
              "    <tr>\n",
              "      <th>1980</th>\n",
              "      <td>10318.182985</td>\n",
              "    </tr>\n",
              "    <tr>\n",
              "      <th>1981</th>\n",
              "      <td>9630.115178</td>\n",
              "    </tr>\n",
              "    <tr>\n",
              "      <th>1982</th>\n",
              "      <td>9407.874641</td>\n",
              "    </tr>\n",
              "    <tr>\n",
              "      <th>1983</th>\n",
              "      <td>9660.192130</td>\n",
              "    </tr>\n",
              "    <tr>\n",
              "      <th>1984</th>\n",
              "      <td>9655.183649</td>\n",
              "    </tr>\n",
              "  </tbody>\n",
              "</table>\n",
              "</div>"
            ],
            "text/plain": [
              "      NY.GDP.PCAP.KD\n",
              "year                \n",
              "1980    10318.182985\n",
              "1981     9630.115178\n",
              "1982     9407.874641\n",
              "1983     9660.192130\n",
              "1984     9655.183649"
            ]
          },
          "metadata": {},
          "execution_count": 33
        }
      ],
      "source": [
        "reversed_df = df_GPDpc_Argentina.iloc[::-1] #invertimos el dataframe \n",
        "reversed_df= reversed_df.droplevel('country') # removemos el level pais, ya que todo el análisis es para un solo país\n",
        "reversed_df.head(5)"
      ]
    },
    {
      "cell_type": "code",
      "execution_count": 34,
      "metadata": {
        "colab": {
          "base_uri": "https://localhost:8080/",
          "height": 235
        },
        "id": "rcLBnYFKizaa",
        "outputId": "3acacaec-d84e-47fb-c5f6-a90d72d5f946"
      },
      "outputs": [
        {
          "output_type": "execute_result",
          "data": {
            "text/html": [
              "<div>\n",
              "<style scoped>\n",
              "    .dataframe tbody tr th:only-of-type {\n",
              "        vertical-align: middle;\n",
              "    }\n",
              "\n",
              "    .dataframe tbody tr th {\n",
              "        vertical-align: top;\n",
              "    }\n",
              "\n",
              "    .dataframe thead th {\n",
              "        text-align: right;\n",
              "    }\n",
              "</style>\n",
              "<table border=\"1\" class=\"dataframe\">\n",
              "  <thead>\n",
              "    <tr style=\"text-align: right;\">\n",
              "      <th></th>\n",
              "      <th>NY.GDP.PCAP.KD</th>\n",
              "    </tr>\n",
              "    <tr>\n",
              "      <th>year</th>\n",
              "      <th></th>\n",
              "    </tr>\n",
              "  </thead>\n",
              "  <tbody>\n",
              "    <tr>\n",
              "      <th>1980</th>\n",
              "      <td>10318.182985</td>\n",
              "    </tr>\n",
              "    <tr>\n",
              "      <th>1981</th>\n",
              "      <td>9630.115178</td>\n",
              "    </tr>\n",
              "    <tr>\n",
              "      <th>1982</th>\n",
              "      <td>9407.874641</td>\n",
              "    </tr>\n",
              "    <tr>\n",
              "      <th>1983</th>\n",
              "      <td>9660.192130</td>\n",
              "    </tr>\n",
              "    <tr>\n",
              "      <th>1984</th>\n",
              "      <td>9655.183649</td>\n",
              "    </tr>\n",
              "  </tbody>\n",
              "</table>\n",
              "</div>"
            ],
            "text/plain": [
              "      NY.GDP.PCAP.KD\n",
              "year                \n",
              "1980    10318.182985\n",
              "1981     9630.115178\n",
              "1982     9407.874641\n",
              "1983     9660.192130\n",
              "1984     9655.183649"
            ]
          },
          "metadata": {},
          "execution_count": 34
        }
      ],
      "source": [
        "# Otra forma  es ordenando el index simplemente\n",
        "\n",
        "df_GPDpc_Argentina.sort_index(inplace=True)\n",
        "\n",
        "df_GPDpc_Argentina = df_GPDpc_Argentina.droplevel('country')\n",
        "\n",
        "df_GPDpc_Argentina.head()"
      ]
    },
    {
      "cell_type": "code",
      "execution_count": 39,
      "metadata": {
        "colab": {
          "base_uri": "https://localhost:8080/",
          "height": 299
        },
        "id": "uZQH28Gjizaa",
        "outputId": "76ecaa8d-bf9f-4b5c-8400-d6018735cec0"
      },
      "outputs": [
        {
          "output_type": "execute_result",
          "data": {
            "text/plain": [
              "Text(0.5, 0, 'Año')"
            ]
          },
          "metadata": {},
          "execution_count": 39
        },
        {
          "output_type": "display_data",
          "data": {
            "image/png": "[encoded data removed]",
            "text/plain": [
              "<Figure size 432x288 with 1 Axes>"
            ]
          },
          "metadata": {
            "needs_background": "light"
          }
        }
      ],
      "source": [
        "# Graficamos\n",
        "\n",
        "ax = df_GPDpc_Argentina['1980':].plot(legend=False) \n",
        "ax.set_ylabel(r'GDP')\n",
        "ax.set_xlabel(r'Año')\n"
      ]
    },
    {
      "cell_type": "markdown",
      "metadata": {
        "id": "qLw7mpqUizaa"
      },
      "source": [
        "Si quisieramos bajar más de un indicador"
      ]
    },
    {
      "cell_type": "code",
      "execution_count": 40,
      "metadata": {
        "id": "jRPrKFgUizaa"
      },
      "outputs": [],
      "source": [
        "df_GPDpc_pp_Argentina= wb.download( indicator=['NY.GDP.PCAP.PP.KD','NY.GDP.PCAP.KD'], country=['AR'], start=2008, end=2010 )"
      ]
    },
    {
      "cell_type": "markdown",
      "metadata": {
        "id": "zm3s9yWDizab"
      },
      "source": [
        "Y si lo graficamos:"
      ]
    },
    {
      "cell_type": "code",
      "execution_count": 42,
      "metadata": {
        "colab": {
          "base_uri": "https://localhost:8080/",
          "height": 299
        },
        "id": "nkbXPii9izab",
        "outputId": "cff31321-aa02-48ab-ac3f-e0e9af61a32e"
      },
      "outputs": [
        {
          "output_type": "execute_result",
          "data": {
            "text/plain": [
              "Text(0.5, 0, 'Año')"
            ]
          },
          "metadata": {},
          "execution_count": 42
        },
        {
          "output_type": "display_data",
          "data": {
            "image/png": "[encoded data removed]",
            "text/plain": [
              "<Figure size 432x288 with 1 Axes>"
            ]
          },
          "metadata": {
            "needs_background": "light"
          }
        }
      ],
      "source": [
        "df_GPDpc_pp_Argentina.sort_index(inplace=True) #ordenamos el index\n",
        "\n",
        "ax = df_GPDpc_pp_Argentina.plot(legend=True) \n",
        "ax.set_ylabel(r'GDP ($\\$B$)')\n",
        "ax.set_xlabel(r'Año')\n"
      ]
    },
    {
      "cell_type": "markdown",
      "metadata": {
        "id": "zAbdxubVizab"
      },
      "source": [
        "Si quisieramos bajar más de un país"
      ]
    },
    {
      "cell_type": "code",
      "execution_count": 43,
      "metadata": {
        "id": "aHlzVjzKizab"
      },
      "outputs": [],
      "source": [
        "df_cl_ar= wb.download( indicator=['NY.GDP.PCAP.PP.KD','NY.GDP.PCAP.KD'], country=['CL', 'AR'], start=2000, end=2019 )\n",
        "df_cl_ar.sort_index(inplace=True) #ordenamos el index"
      ]
    },
    {
      "cell_type": "code",
      "execution_count": 44,
      "metadata": {
        "colab": {
          "base_uri": "https://localhost:8080/",
          "height": 1000
        },
        "id": "jgjwg3_-izab",
        "outputId": "feb91b38-03b9-4702-bf8e-14e3af6a6d98"
      },
      "outputs": [
        {
          "output_type": "execute_result",
          "data": {
            "text/html": [
              "<div>\n",
              "<style scoped>\n",
              "    .dataframe tbody tr th:only-of-type {\n",
              "        vertical-align: middle;\n",
              "    }\n",
              "\n",
              "    .dataframe tbody tr th {\n",
              "        vertical-align: top;\n",
              "    }\n",
              "\n",
              "    .dataframe thead th {\n",
              "        text-align: right;\n",
              "    }\n",
              "</style>\n",
              "<table border=\"1\" class=\"dataframe\">\n",
              "  <thead>\n",
              "    <tr style=\"text-align: right;\">\n",
              "      <th></th>\n",
              "      <th></th>\n",
              "      <th>NY.GDP.PCAP.PP.KD</th>\n",
              "      <th>NY.GDP.PCAP.KD</th>\n",
              "    </tr>\n",
              "    <tr>\n",
              "      <th>country</th>\n",
              "      <th>year</th>\n",
              "      <th></th>\n",
              "      <th></th>\n",
              "    </tr>\n",
              "  </thead>\n",
              "  <tbody>\n",
              "    <tr>\n",
              "      <th rowspan=\"20\" valign=\"top\">Argentina</th>\n",
              "      <th>2000</th>\n",
              "      <td>18625.283554</td>\n",
              "      <td>10730.608217</td>\n",
              "    </tr>\n",
              "    <tr>\n",
              "      <th>2001</th>\n",
              "      <td>17610.755386</td>\n",
              "      <td>10146.106818</td>\n",
              "    </tr>\n",
              "    <tr>\n",
              "      <th>2002</th>\n",
              "      <td>15523.038776</td>\n",
              "      <td>8943.308002</td>\n",
              "    </tr>\n",
              "    <tr>\n",
              "      <th>2003</th>\n",
              "      <td>16714.670133</td>\n",
              "      <td>9629.844086</td>\n",
              "    </tr>\n",
              "    <tr>\n",
              "      <th>2004</th>\n",
              "      <td>18032.611427</td>\n",
              "      <td>10389.151274</td>\n",
              "    </tr>\n",
              "    <tr>\n",
              "      <th>2005</th>\n",
              "      <td>19426.440143</td>\n",
              "      <td>11192.179579</td>\n",
              "    </tr>\n",
              "    <tr>\n",
              "      <th>2006</th>\n",
              "      <td>20777.652710</td>\n",
              "      <td>11970.655387</td>\n",
              "    </tr>\n",
              "    <tr>\n",
              "      <th>2007</th>\n",
              "      <td>22424.117729</td>\n",
              "      <td>12919.235365</td>\n",
              "    </tr>\n",
              "    <tr>\n",
              "      <th>2008</th>\n",
              "      <td>23103.456522</td>\n",
              "      <td>13310.623684</td>\n",
              "    </tr>\n",
              "    <tr>\n",
              "      <th>2009</th>\n",
              "      <td>21519.893616</td>\n",
              "      <td>12398.283581</td>\n",
              "    </tr>\n",
              "    <tr>\n",
              "      <th>2010</th>\n",
              "      <td>23521.270175</td>\n",
              "      <td>13551.339194</td>\n",
              "    </tr>\n",
              "    <tr>\n",
              "      <th>2011</th>\n",
              "      <td>24647.629274</td>\n",
              "      <td>14200.269889</td>\n",
              "    </tr>\n",
              "    <tr>\n",
              "      <th>2012</th>\n",
              "      <td>24118.867516</td>\n",
              "      <td>13895.633707</td>\n",
              "    </tr>\n",
              "    <tr>\n",
              "      <th>2013</th>\n",
              "      <td>24424.136447</td>\n",
              "      <td>14071.508683</td>\n",
              "    </tr>\n",
              "    <tr>\n",
              "      <th>2014</th>\n",
              "      <td>23550.099060</td>\n",
              "      <td>13567.948416</td>\n",
              "    </tr>\n",
              "    <tr>\n",
              "      <th>2015</th>\n",
              "      <td>23933.886612</td>\n",
              "      <td>13789.060425</td>\n",
              "    </tr>\n",
              "    <tr>\n",
              "      <th>2016</th>\n",
              "      <td>23189.527445</td>\n",
              "      <td>13360.211835</td>\n",
              "    </tr>\n",
              "    <tr>\n",
              "      <th>2017</th>\n",
              "      <td>23597.117753</td>\n",
              "      <td>13595.037355</td>\n",
              "    </tr>\n",
              "    <tr>\n",
              "      <th>2018</th>\n",
              "      <td>22759.398558</td>\n",
              "      <td>13112.401134</td>\n",
              "    </tr>\n",
              "    <tr>\n",
              "      <th>2019</th>\n",
              "      <td>22063.904372</td>\n",
              "      <td>12711.705187</td>\n",
              "    </tr>\n",
              "    <tr>\n",
              "      <th rowspan=\"20\" valign=\"top\">Chile</th>\n",
              "      <th>2000</th>\n",
              "      <td>15638.000944</td>\n",
              "      <td>8685.321794</td>\n",
              "    </tr>\n",
              "    <tr>\n",
              "      <th>2001</th>\n",
              "      <td>15973.619974</td>\n",
              "      <td>8871.724090</td>\n",
              "    </tr>\n",
              "    <tr>\n",
              "      <th>2002</th>\n",
              "      <td>16293.185833</td>\n",
              "      <td>9049.210479</td>\n",
              "    </tr>\n",
              "    <tr>\n",
              "      <th>2003</th>\n",
              "      <td>16782.938816</td>\n",
              "      <td>9321.218536</td>\n",
              "    </tr>\n",
              "    <tr>\n",
              "      <th>2004</th>\n",
              "      <td>17807.170131</td>\n",
              "      <td>9890.075041</td>\n",
              "    </tr>\n",
              "    <tr>\n",
              "      <th>2005</th>\n",
              "      <td>18634.626436</td>\n",
              "      <td>10349.643007</td>\n",
              "    </tr>\n",
              "    <tr>\n",
              "      <th>2006</th>\n",
              "      <td>19603.697829</td>\n",
              "      <td>10887.863776</td>\n",
              "    </tr>\n",
              "    <tr>\n",
              "      <th>2007</th>\n",
              "      <td>20346.740856</td>\n",
              "      <td>11300.548736</td>\n",
              "    </tr>\n",
              "    <tr>\n",
              "      <th>2008</th>\n",
              "      <td>20840.404214</td>\n",
              "      <td>11574.728609</td>\n",
              "    </tr>\n",
              "    <tr>\n",
              "      <th>2009</th>\n",
              "      <td>20298.250925</td>\n",
              "      <td>11273.617502</td>\n",
              "    </tr>\n",
              "    <tr>\n",
              "      <th>2010</th>\n",
              "      <td>21262.466986</td>\n",
              "      <td>11809.141627</td>\n",
              "    </tr>\n",
              "    <tr>\n",
              "      <th>2011</th>\n",
              "      <td>22337.860558</td>\n",
              "      <td>12406.413571</td>\n",
              "    </tr>\n",
              "    <tr>\n",
              "      <th>2012</th>\n",
              "      <td>23300.442302</td>\n",
              "      <td>12941.029999</td>\n",
              "    </tr>\n",
              "    <tr>\n",
              "      <th>2013</th>\n",
              "      <td>24006.812334</td>\n",
              "      <td>13333.346834</td>\n",
              "    </tr>\n",
              "    <tr>\n",
              "      <th>2014</th>\n",
              "      <td>24173.064937</td>\n",
              "      <td>13425.683275</td>\n",
              "    </tr>\n",
              "    <tr>\n",
              "      <th>2015</th>\n",
              "      <td>24440.415264</td>\n",
              "      <td>13574.169238</td>\n",
              "    </tr>\n",
              "    <tr>\n",
              "      <th>2016</th>\n",
              "      <td>24531.357739</td>\n",
              "      <td>13624.678549</td>\n",
              "    </tr>\n",
              "    <tr>\n",
              "      <th>2017</th>\n",
              "      <td>24470.703624</td>\n",
              "      <td>13590.991346</td>\n",
              "    </tr>\n",
              "    <tr>\n",
              "      <th>2018</th>\n",
              "      <td>25028.909991</td>\n",
              "      <td>13901.018309</td>\n",
              "    </tr>\n",
              "    <tr>\n",
              "      <th>2019</th>\n",
              "      <td>24967.580212</td>\n",
              "      <td>13866.955843</td>\n",
              "    </tr>\n",
              "  </tbody>\n",
              "</table>\n",
              "</div>"
            ],
            "text/plain": [
              "                NY.GDP.PCAP.PP.KD  NY.GDP.PCAP.KD\n",
              "country   year                                   \n",
              "Argentina 2000       18625.283554    10730.608217\n",
              "          2001       17610.755386    10146.106818\n",
              "          2002       15523.038776     8943.308002\n",
              "          2003       16714.670133     9629.844086\n",
              "          2004       18032.611427    10389.151274\n",
              "          2005       19426.440143    11192.179579\n",
              "          2006       20777.652710    11970.655387\n",
              "          2007       22424.117729    12919.235365\n",
              "          2008       23103.456522    13310.623684\n",
              "          2009       21519.893616    12398.283581\n",
              "          2010       23521.270175    13551.339194\n",
              "          2011       24647.629274    14200.269889\n",
              "          2012       24118.867516    13895.633707\n",
              "          2013       24424.136447    14071.508683\n",
              "          2014       23550.099060    13567.948416\n",
              "          2015       23933.886612    13789.060425\n",
              "          2016       23189.527445    13360.211835\n",
              "          2017       23597.117753    13595.037355\n",
              "          2018       22759.398558    13112.401134\n",
              "          2019       22063.904372    12711.705187\n",
              "Chile     2000       15638.000944     8685.321794\n",
              "          2001       15973.619974     8871.724090\n",
              "          2002       16293.185833     9049.210479\n",
              "          2003       16782.938816     9321.218536\n",
              "          2004       17807.170131     9890.075041\n",
              "          2005       18634.626436    10349.643007\n",
              "          2006       19603.697829    10887.863776\n",
              "          2007       20346.740856    11300.548736\n",
              "          2008       20840.404214    11574.728609\n",
              "          2009       20298.250925    11273.617502\n",
              "          2010       21262.466986    11809.141627\n",
              "          2011       22337.860558    12406.413571\n",
              "          2012       23300.442302    12941.029999\n",
              "          2013       24006.812334    13333.346834\n",
              "          2014       24173.064937    13425.683275\n",
              "          2015       24440.415264    13574.169238\n",
              "          2016       24531.357739    13624.678549\n",
              "          2017       24470.703624    13590.991346\n",
              "          2018       25028.909991    13901.018309\n",
              "          2019       24967.580212    13866.955843"
            ]
          },
          "metadata": {},
          "execution_count": 44
        }
      ],
      "source": [
        "df_cl_ar"
      ]
    },
    {
      "cell_type": "code",
      "execution_count": 45,
      "metadata": {
        "colab": {
          "base_uri": "https://localhost:8080/"
        },
        "id": "w1SzbPRBizab",
        "outputId": "71f0ed3a-fcce-4424-8491-4a71a7e99c7c"
      },
      "outputs": [
        {
          "output_type": "execute_result",
          "data": {
            "text/plain": [
              "MultiIndex([('Argentina', '2000'),\n",
              "            ('Argentina', '2001'),\n",
              "            ('Argentina', '2002'),\n",
              "            ('Argentina', '2003'),\n",
              "            ('Argentina', '2004'),\n",
              "            ('Argentina', '2005'),\n",
              "            ('Argentina', '2006'),\n",
              "            ('Argentina', '2007'),\n",
              "            ('Argentina', '2008'),\n",
              "            ('Argentina', '2009'),\n",
              "            ('Argentina', '2010'),\n",
              "            ('Argentina', '2011'),\n",
              "            ('Argentina', '2012'),\n",
              "            ('Argentina', '2013'),\n",
              "            ('Argentina', '2014'),\n",
              "            ('Argentina', '2015'),\n",
              "            ('Argentina', '2016'),\n",
              "            ('Argentina', '2017'),\n",
              "            ('Argentina', '2018'),\n",
              "            ('Argentina', '2019'),\n",
              "            (    'Chile', '2000'),\n",
              "            (    'Chile', '2001'),\n",
              "            (    'Chile', '2002'),\n",
              "            (    'Chile', '2003'),\n",
              "            (    'Chile', '2004'),\n",
              "            (    'Chile', '2005'),\n",
              "            (    'Chile', '2006'),\n",
              "            (    'Chile', '2007'),\n",
              "            (    'Chile', '2008'),\n",
              "            (    'Chile', '2009'),\n",
              "            (    'Chile', '2010'),\n",
              "            (    'Chile', '2011'),\n",
              "            (    'Chile', '2012'),\n",
              "            (    'Chile', '2013'),\n",
              "            (    'Chile', '2014'),\n",
              "            (    'Chile', '2015'),\n",
              "            (    'Chile', '2016'),\n",
              "            (    'Chile', '2017'),\n",
              "            (    'Chile', '2018'),\n",
              "            (    'Chile', '2019')],\n",
              "           names=['country', 'year'])"
            ]
          },
          "metadata": {},
          "execution_count": 45
        }
      ],
      "source": [
        "df_cl_ar.index"
      ]
    },
    {
      "cell_type": "code",
      "execution_count": 46,
      "metadata": {
        "colab": {
          "base_uri": "https://localhost:8080/",
          "height": 296
        },
        "id": "9kLXNdvzizab",
        "outputId": "16e11d80-dc96-4771-beb4-a0af880f3b39"
      },
      "outputs": [
        {
          "output_type": "execute_result",
          "data": {
            "text/plain": [
              "Text(0.5, 0, 'Año')"
            ]
          },
          "metadata": {},
          "execution_count": 46
        },
        {
          "output_type": "display_data",
          "data": {
            "image/png": "[encoded data removed]",
            "text/plain": [
              "<Figure size 432x288 with 1 Axes>"
            ]
          },
          "metadata": {
            "needs_background": "light"
          }
        }
      ],
      "source": [
        "# Graficamos\n",
        "\n",
        "ax = df_cl_ar.plot(legend=True) \n",
        "ax.set_ylabel(r'GDP ($\\$B$)')\n",
        "ax.set_xlabel(r'Año')"
      ]
    },
    {
      "cell_type": "code",
      "execution_count": 48,
      "metadata": {
        "colab": {
          "base_uri": "https://localhost:8080/",
          "height": 514
        },
        "id": "hwSI9L3sizab",
        "outputId": "684b7135-30f0-47d4-87b9-b871cafeb5d4"
      },
      "outputs": [
        {
          "output_type": "execute_result",
          "data": {
            "text/plain": [
              "<matplotlib.legend.Legend at 0x7f88cd9ee090>"
            ]
          },
          "metadata": {},
          "execution_count": 48
        },
        {
          "output_type": "display_data",
          "data": {
            "image/png": "[encoded data removed]",
            "text/plain": [
              "<Figure size 720x576 with 1 Axes>"
            ]
          },
          "metadata": {
            "needs_background": "light"
          }
        }
      ],
      "source": [
        "plt.figure(figsize=(10,8))\n",
        "\n",
        "sns.lineplot(x='year', y='NY.GDP.PCAP.PP.KD', hue='country', data=df_cl_ar)\n",
        "#plt.yscale('log')\n",
        "plt.legend(title='País', bbox_to_anchor=(1.05, 1), loc='upper left')\n"
      ]
    }
  ],
  "metadata": {
    "interpreter": {
      "hash": "aee8b7b246df8f9039afb4144a1f6fd8d2ca17a180786b69acc140d282b71a49"
    },
    "kernelspec": {
      "display_name": "Python 3",
      "language": "python",
      "name": "python3"
    },
    "language_info": {
      "codemirror_mode": {
        "name": "ipython",
        "version": 3
      },
      "file_extension": ".py",
      "mimetype": "text/x-python",
      "name": "python",
      "nbconvert_exporter": "python",
      "pygments_lexer": "ipython3",
      "version": "3.9.7"
    },
    "colab": {
      "name": "Notebook-taller-bloque1.ipynb",
      "provenance": []
    }
  },
  "nbformat": 4,
  "nbformat_minor": 0
}